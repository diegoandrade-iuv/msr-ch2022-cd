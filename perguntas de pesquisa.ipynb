{
 "cells": [
  {
   "cell_type": "markdown",
   "metadata": {},
   "source": [
    "# tem Beneficios a entrega contínua?"
   ]
  },
  {
   "cell_type": "markdown",
   "metadata": {},
   "source": [
    "## Revisar literatura para encontrar melhores perguntas de pesquisa"
   ]
  },
  {
   "cell_type": "markdown",
   "metadata": {},
   "source": [
    "## Analisar dataset para estabelecer quais projetos tem entrega contínua\n",
    "\n"
   ]
  },
  {
   "cell_type": "code",
   "execution_count": null,
   "metadata": {},
   "outputs": [],
   "source": [
    "import pandas as pd\n",
    "from pymongo import MongoClient\n",
    "from bson.objectid import ObjectId\n",
    "from datetime import timedelta\n",
    "import numpy as np\n",
    "import datetime\n",
    "import re\n",
    "client = MongoClient()\n",
    "db = client.smartshark_2_2"
   ]
  },
  {
   "cell_type": "markdown",
   "metadata": {},
   "source": [
    "### 1) Tem integração contínua - OK"
   ]
  },
  {
   "cell_type": "code",
   "execution_count": null,
   "metadata": {},
   "outputs": [],
   "source": [
    "vcs_systems = pd.DataFrame(list(db.vcs_system.find()))\n",
    "travisBuilds = pd.DataFrame(list(db.travis_build.find()))\n",
    "projetosComBuilds = travisBuilds['vcs_system_id'].unique()\n",
    "print(vcs_systems.query('_id.isin(@projetosComBuilds)').drop_duplicates().dropna().count())\n",
    "vcs_systems.query('_id.isin(@projetosComBuilds)').drop_duplicates().dropna()"
   ]
  },
  {
   "cell_type": "markdown",
   "metadata": {},
   "source": [
    "### 2) Pegar as tags do projetos de integração contínua? - OK"
   ]
  },
  {
   "cell_type": "code",
   "execution_count": null,
   "metadata": {},
   "outputs": [],
   "source": [
    "tags = pd.DataFrame(list(db.tag.find()))\n",
    "idsVcsComBuilds = vcs_systems.query('_id.isin(@projetosComBuilds)').drop_duplicates().dropna()._id"
   ]
  },
  {
   "cell_type": "code",
   "execution_count": null,
   "metadata": {},
   "outputs": [],
   "source": [
    "tagsDosProjComBuild = tags.query('vcs_system_id.isin(@idsVcsComBuilds)').drop_duplicates().dropna()"
   ]
  },
  {
   "cell_type": "code",
   "execution_count": null,
   "metadata": {},
   "outputs": [],
   "source": [
    "tagsDosProjComBuild"
   ]
  },
  {
   "cell_type": "markdown",
   "metadata": {},
   "source": [
    "### 3) Determinei oq vou considerar Tag de Release - OK\n",
    "##### Tags de release não tem no nome os termos 'RC', 'candidate', 'test', 'beta', 'alfa', 'unreleased', snapshot, siteupdate, freeze, sandbox, migration"
   ]
  },
  {
   "cell_type": "code",
   "execution_count": null,
   "metadata": {},
   "outputs": [],
   "source": [
    "tagsDeRelase = tagsDosProjComBuild[\n",
    "    tagsDosProjComBuild['name']\n",
    "    .str.contains('rc|RC|candidate|CANDIDATE|test|TEST|beta|BETA|alpha|ALPHA|unreleased|UNRELEASED|snapshot|SNAPSHOT|siteupdate|SITEUPDATE|freeze|FREEZE|sandbox|SANDBOX|migration|MIGRATION|dev|DEV')==False].drop_duplicates().dropna()"
   ]
  },
  {
   "cell_type": "code",
   "execution_count": null,
   "metadata": {},
   "outputs": [],
   "source": [
    "tagsDeRelase.name.to_csv('tags.csv', index=False)"
   ]
  },
  {
   "cell_type": "code",
   "execution_count": null,
   "metadata": {},
   "outputs": [],
   "source": [
    "tagsDeRelase"
   ]
  },
  {
   "cell_type": "markdown",
   "metadata": {},
   "source": [
    "### 4) Filtrar builds que tem commits de tag de release - OK"
   ]
  },
  {
   "cell_type": "code",
   "execution_count": null,
   "metadata": {},
   "outputs": [],
   "source": [
    "commitsDeRelease = tagsDeRelase.commit_id.unique()\n",
    "buildsIntegrados = travisBuilds.query('commit_id.isin(@commitsDeRelease)')\n",
    "stateIndesejados = ['failed', 'canceled']\n",
    "BuildsValidos = buildsIntegrados.query('~state.isin(@stateIndesejados)')"
   ]
  },
  {
   "cell_type": "code",
   "execution_count": null,
   "metadata": {},
   "outputs": [],
   "source": [
    "BuildsValidos.state.value_counts()"
   ]
  },
  {
   "cell_type": "markdown",
   "metadata": {},
   "source": [
    "### 5) Analisar quais projetos tem builds de entrega ok "
   ]
  },
  {
   "cell_type": "code",
   "execution_count": null,
   "metadata": {},
   "outputs": [],
   "source": [
    "vcsComEntrega = BuildsValidos.vcs_system_id.unique()\n",
    "print(vcs_systems.query('_id.isin(@vcsComEntrega)').drop_duplicates().dropna().count())\n",
    "vcs_systems.query('_id.isin(@vcsComEntrega)').drop_duplicates().dropna()"
   ]
  },
  {
   "cell_type": "markdown",
   "metadata": {},
   "source": [
    "### 6) Desses projetos quais tem uma quantidade relevante de entregas que permita a nossa análise (>3 Builds com integração) - OK\n"
   ]
  },
  {
   "cell_type": "code",
   "execution_count": null,
   "metadata": {},
   "outputs": [],
   "source": [
    "BuildsValidosPorCommit = BuildsValidos[['_id', 'vcs_system_id', 'commit_id', 'number', 'state', 'started_at', 'finished_at']].groupby(['commit_id'], as_index=False, sort=False).max()"
   ]
  },
  {
   "cell_type": "code",
   "execution_count": null,
   "metadata": {},
   "outputs": [],
   "source": [
    "vcsComCD = BuildsValidosPorCommit[['vcs_system_id','_id']].groupby(['vcs_system_id'], as_index=False).agg('count').sort_values(by=['_id'], ascending=False)\n",
    "vcsComCD = vcsComCD.query('_id > 2')\n",
    "print(vcsComCD.count())\n",
    "vcsComCD"
   ]
  },
  {
   "cell_type": "markdown",
   "metadata": {},
   "source": [
    "## Validação de continuidade de uso de CD (em paralelo uma validação manual)\n",
    "\n",
    "Quantos Releases tem a partir da adoção  X Quantos Builds com commits de Release a partir da data da adoção de CD "
   ]
  },
  {
   "cell_type": "markdown",
   "metadata": {},
   "source": [
    "# Fim caracterização"
   ]
  },
  {
   "cell_type": "markdown",
   "metadata": {},
   "source": [
    "### 7) Percorrer os projetos e coletar seus dados"
   ]
  },
  {
   "cell_type": "code",
   "execution_count": null,
   "metadata": {},
   "outputs": [],
   "source": [
    "vcsList= []\n",
    "for index, row in vcsComCD.iterrows():\n",
    "    vcsList.append(row.vcs_system_id)\n",
    "vcsList"
   ]
  },
  {
   "cell_type": "markdown",
   "metadata": {},
   "source": [
    "Montar a primeira tabela, que para cada vcs_system_id, busca project_id, issues_system_id, data da adoção de CD, primeira build de CD, quantas builds antes e depois do CD, campo de análise manual se tem a CD suspeita"
   ]
  },
  {
   "cell_type": "code",
   "execution_count": null,
   "metadata": {},
   "outputs": [],
   "source": [
    "issue_system = pd.DataFrame(list(db.issue_system.find()))\n",
    "projects = pd.DataFrame(list(db.project.find()))\n",
    "listaDosProjetosComCD = [] \n",
    "issues_system_ids = []\n",
    "for vcs in vcsList:\n",
    "    # Buscar informações sobre o projeto\n",
    "    project_id = vcs_systems.query('_id == @vcs').iloc[0,2] \n",
    "\n",
    "    #nome do projeto\n",
    "    name = projects.query('_id == @project_id').iloc[0,1]     \n",
    "\n",
    "    # Informações sobre o issue system\n",
    "    issues_system_id = issue_system.query('project_id == @project_id').iloc[0,0]\n",
    "    issues_system_ids.append(issues_system_id)   \n",
    "\n",
    "    # Pegar o commit da build considerada como a build de adoção (desconsiderando o primeiro)\n",
    "    commit_id_DaBuilld = BuildsValidosPorCommit.query('vcs_system_id == @vcs').sort_values(by=['started_at']).iloc[1,0]\n",
    "    \n",
    "\n",
    "    # Pegar a release com o commit de build de adoção\n",
    "    id_tag_Adocao_CD = tagsDeRelase.query('commit_id == @commit_id_DaBuilld').iloc[0,0]\n",
    "    nome_da_releasa = tagsDeRelase.query('commit_id == @commit_id_DaBuilld').iloc[0,1]\n",
    "    data_de_adocao = tagsDeRelase.query('commit_id == @commit_id_DaBuilld').iloc[0,6]\n",
    "\n",
    "    listaDosProjetosComCD.append([name , vcs,project_id, issues_system_id, commit_id_DaBuilld, id_tag_Adocao_CD, nome_da_releasa, data_de_adocao  ])\n",
    "\n",
    "dfProjetosComCD = pd.DataFrame(listaDosProjetosComCD, columns=['name', 'vcs_system_id', 'project_id', 'issues_system_id', 'commit_id', 'tag_id','adoption_release', 'cd_adoption_date' ])\n",
    "dfProjetosComCD"
   ]
  },
  {
   "cell_type": "markdown",
   "metadata": {},
   "source": [
    "### 8) Buscar as issues dos projetos analisados para contabilizar as metricas"
   ]
  },
  {
   "cell_type": "code",
   "execution_count": null,
   "metadata": {},
   "outputs": [],
   "source": [
    "issues = pd.DataFrame(list(db.issue.find()))\n",
    "issuesProjetosCD = issues.query('issue_system_id.isin(@issues_system_ids)')"
   ]
  },
  {
   "cell_type": "markdown",
   "metadata": {},
   "source": [
    "### 9) Contabilizar métricas"
   ]
  },
  {
   "cell_type": "markdown",
   "metadata": {},
   "source": [
    "\n",
    "#### 1) Time to market (tempo entre releases)\n",
    "Tempo entre releases (tempo medio)\n"
   ]
  },
  {
   "cell_type": "markdown",
   "metadata": {},
   "source": [
    "Algoritmo Final:"
   ]
  },
  {
   "cell_type": "code",
   "execution_count": null,
   "metadata": {},
   "outputs": [],
   "source": [
    "difference_per_project = []\n",
    "for i in range(dfProjetosComCD.shape[0]):\n",
    "    tmp_name = dfProjetosComCD.iloc[i,0]\n",
    "    tmp_vcs = dfProjetosComCD.iloc[i,1]\n",
    "    tmp_date = dfProjetosComCD.iloc[i,7]\n",
    "    ttm_tags_no_cd = tagsDeRelase.query('vcs_system_id == @tmp_vcs & date < @tmp_date ').sort_values(by='date')\n",
    "    ttm_tags_cd = tagsDeRelase.query('vcs_system_id == @tmp_vcs & date >= @tmp_date ').sort_values(by='date')\n",
    "    average_no_cd = (ttm_tags_no_cd.iloc[ttm_tags_no_cd.shape[0] - 1,6] - ttm_tags_no_cd.iloc[0,6])/(ttm_tags_no_cd.shape[0] - 1)\n",
    "    average_cd = (ttm_tags_cd.iloc[ttm_tags_cd.shape[0] - 1,6] - ttm_tags_cd.iloc[0,6])/(ttm_tags_cd.shape[0] - 1)\n",
    "    difference_per_project.append((tmp_name, tmp_vcs, average_no_cd - average_cd))\n"
   ]
  },
  {
   "cell_type": "code",
   "execution_count": null,
   "metadata": {},
   "outputs": [],
   "source": [
    "df_tmt = pd.DataFrame(difference_per_project, columns=['name', 'vcs_system_id', 'noCD_CD'])\n",
    "df_tmt"
   ]
  },
  {
   "cell_type": "code",
   "execution_count": null,
   "metadata": {},
   "outputs": [],
   "source": [
    "temp_delta_zero = datetime.datetime.now() - datetime.datetime.now()\n",
    "print('Projetos que diminuiram seu Time to Market: ', df_tmt.query('noCD_CD > @temp_delta_zero').count().iloc[0])\n",
    "print('Projetos que aumentaram seu Time to Market: ', df_tmt.query('noCD_CD < @temp_delta_zero').count().iloc[0]) \n"
   ]
  },
  {
   "cell_type": "code",
   "execution_count": null,
   "metadata": {},
   "outputs": [],
   "source": [
    "difference_per_project = []\n",
    "list_builds = []\n",
    "for i in range(dfProjetosComCD.shape[0]):\n",
    "    tmp_name = dfProjetosComCD.iloc[i,0]\n",
    "    tmp_vcs = dfProjetosComCD.iloc[i,1]\n",
    "    tmp_adoption_date = dfProjetosComCD.iloc[i,7]\n",
    "    tmp_df = tagsDeRelase.query('vcs_system_id == @tmp_vcs').sort_values(by='date')\n",
    "    for j in range(tmp_df.shape[0]):\n",
    "        tmp_release_date = tmp_df.iloc[j,6]\n",
    "        if j != 0:\n",
    "            tmp_date_diference = tmp_release_date - tmp_df.iloc[j-1,6]\n",
    "            cd_flag = tmp_release_date >= tmp_adoption_date\n",
    "            release_name = tmp_df.iloc[j,1]\n",
    "            list_builds.append([tmp_name,tmp_vcs, release_name, tmp_release_date, tmp_date_diference, cd_flag ])                    \n",
    "df_tmt_builds = pd.DataFrame(list_builds, columns=['name','vcs_system_id', 'release_name','release_date', 'deltatime_last_release', 'isCD'])    "
   ]
  },
  {
   "cell_type": "code",
   "execution_count": null,
   "metadata": {},
   "outputs": [],
   "source": [
    "mean_release_tax_no_cd = []\n",
    "mean_release_tax_cd = []\n",
    "median_release_tax_no_cd = []\n",
    "median_release_tax_cd = []\n",
    "for i in range(dfProjetosComCD.shape[0]):\n",
    "    tmp_vcs = dfProjetosComCD.iloc[i,1]\n",
    "    mean_release_tax_no_cd.append(df_tmt_builds.query('vcs_system_id == @tmp_vcs and isCD == False').deltatime_last_release.mean())\n",
    "    mean_release_tax_cd.append(df_tmt_builds.query('vcs_system_id == @tmp_vcs and isCD == True').deltatime_last_release.mean())\n",
    "    median_release_tax_no_cd.append(df_tmt_builds.query('vcs_system_id == @tmp_vcs and isCD == False').deltatime_last_release.median())\n",
    "    median_release_tax_cd.append(df_tmt_builds.query('vcs_system_id == @tmp_vcs and isCD == True').deltatime_last_release.median())\n",
    "dfProjetosComCD['mean_release_tax_no_cd'] = mean_release_tax_no_cd\n",
    "dfProjetosComCD['mean_release_tax_cd'] = mean_release_tax_cd\n",
    "dfProjetosComCD['median_release_tax_no_cd'] = median_release_tax_no_cd\n",
    "dfProjetosComCD['median_release_tax_cd'] = median_release_tax_cd"
   ]
  },
  {
   "cell_type": "code",
   "execution_count": null,
   "metadata": {},
   "outputs": [],
   "source": [
    "print('Projetos com intervalo media entre releases maior após CD:', dfProjetosComCD.query('mean_release_tax_no_cd < mean_release_tax_cd').count().iloc[0] )\n",
    "print('Projetos com intervalo media entre releases menor após CD:', dfProjetosComCD.query('mean_release_tax_no_cd >= mean_release_tax_cd').count().iloc[0] )\n",
    "print('Projetos com mediana de intervalo entre releases maior após CD:', dfProjetosComCD.query('median_release_tax_no_cd < median_release_tax_cd').count().iloc[0] )\n",
    "print('Projetos com mediana de intervalo entre releases menor após CD:', dfProjetosComCD.query('median_release_tax_no_cd >= median_release_tax_cd').count().iloc[0] )"
   ]
  },
  {
   "cell_type": "markdown",
   "metadata": {},
   "source": [
    "#### 2) Quantas issues endereçadas (fix_version) e fechadas por release Issues com status 'Closed' e com fix_version direcionado a um versão específica - Não faz sentido - "
   ]
  },
  {
   "cell_type": "code",
   "execution_count": null,
   "metadata": {},
   "outputs": [],
   "source": [
    "listIssuesFixVersion = []\n",
    "for i in range(dfProjetosComCD.shape[0]):\n",
    "    FVersionsDict = {}\n",
    "    tmp_issue_sistem = dfProjetosComCD.iloc[i,3]\n",
    "    tmp_name = dfProjetosComCD.iloc[i,0]\n",
    "    for i in issues.query('issue_system_id == @tmp_issue_sistem & status == \\'Closed\\'').fix_versions:\n",
    "        if isinstance(i, list): \n",
    "            for j in i:\n",
    "                if j not in FVersionsDict:\n",
    "                    FVersionsDict[j] = 1\n",
    "                else:\n",
    "                    FVersionsDict[j] += 1    \n",
    "    for key in FVersionsDict:\n",
    "        listIssuesFixVersion.append([tmp_name, tmp_issue_sistem, key, FVersionsDict[key] ])\n",
    "df_Issues_fix_Version = pd.DataFrame(listIssuesFixVersion, columns=['name', 'issue_sistem_id', 'version', 'issues'])\n",
    "df_Issues_fix_Version"
   ]
  },
  {
   "cell_type": "markdown",
   "metadata": {},
   "source": [
    "Requer validação manual pra fazer isso, mas seria legal esses boxplots"
   ]
  },
  {
   "cell_type": "code",
   "execution_count": null,
   "metadata": {},
   "outputs": [],
   "source": [
    "tmp_issue_sistem = ObjectId('5bc052df762a157bad4494ca')\n",
    "tmp_version = '3.6'\n",
    "df_Issues_fix_Version.query('issue_sistem_id == @tmp_issue_sistem ').sort_values(by='version')"
   ]
  },
  {
   "cell_type": "code",
   "execution_count": null,
   "metadata": {},
   "outputs": [],
   "source": [
    "#tmp_issue_sistem = ObjectId('5d7778c99f03373d37512b7e')\n",
    "#tmp_version = '4.5.4'\n",
    "df_Issues_fix_Version.query('issue_sistem_id == @tmp_issue_sistem & version < @tmp_version ').sort_values(by='version').issues.describe()"
   ]
  },
  {
   "cell_type": "code",
   "execution_count": null,
   "metadata": {},
   "outputs": [],
   "source": [
    "df_Issues_fix_Version.query('issue_sistem_id == @tmp_issue_sistem & version >= @tmp_version ').sort_values(by='version').issues.describe()"
   ]
  },
  {
   "cell_type": "markdown",
   "metadata": {},
   "source": [
    "#### 3) Quantas issues fechadas por periodo (e prioridade) Issues com status 'Closed' e com updated_at entre os periodos das relases\n",
    "\n",
    "taxa de fechamento de issue dentro do espaço da release\n",
    "\n",
    "tempo medio (mediana) de fechamento de issue antes e depois de CD"
   ]
  },
  {
   "cell_type": "markdown",
   "metadata": {},
   "source": [
    "Algoritmo Final:"
   ]
  },
  {
   "cell_type": "code",
   "execution_count": null,
   "metadata": {},
   "outputs": [],
   "source": [
    "averages_by_project = []\n",
    "for i in range(dfProjetosComCD.shape[0]):\n",
    "    tmp_name = dfProjetosComCD.iloc[i,0]\n",
    "    tmp_vcs = dfProjetosComCD.iloc[i,1]\n",
    "    tmp_date = dfProjetosComCD.iloc[i,7]\n",
    "    tmp_issue_sistem = dfProjetosComCD.iloc[i,3]\n",
    "    ttm_tags_no_cd = tagsDeRelase.query('vcs_system_id == @tmp_vcs & date < @tmp_date ').sort_values(by='date')\n",
    "    ttm_tags_cd = tagsDeRelase.query('vcs_system_id == @tmp_vcs & date >= @tmp_date ').sort_values(by='date')\n",
    "    \n",
    "    average_no_cd = 0\n",
    "    for j in range(0,ttm_tags_no_cd.shape[0] - 1):\n",
    "        data_release_anterior = ttm_tags_no_cd.iloc[j,6]\n",
    "        data_release_da_vez = ttm_tags_no_cd.iloc[j+1,6]\n",
    "        average_no_cd += issues.query('issue_system_id == @tmp_issue_sistem & status == \\'Closed\\' & updated_at > @data_release_anterior  & updated_at <= @data_release_da_vez').shape[0]\n",
    "    average_no_cd = average_no_cd/(ttm_tags_no_cd.shape[0] - 1)\n",
    "    \n",
    "    average_cd = 0\n",
    "    for j in range(0,ttm_tags_cd.shape[0] - 1):\n",
    "        data_release_anterior = ttm_tags_cd.iloc[j,6]\n",
    "        data_release_da_vez = ttm_tags_cd.iloc[j+1,6]\n",
    "        average_cd += issues.query('issue_system_id == @tmp_issue_sistem & status == \\'Closed\\' & updated_at > @data_release_anterior  & updated_at <= @data_release_da_vez').shape[0]\n",
    "    average_cd = average_cd/(ttm_tags_cd.shape[0] - 1)\n",
    "\n",
    "    averages_by_project.append((tmp_name, tmp_vcs, average_no_cd, average_cd))\n",
    "\n",
    "df_media_issues_periodo = pd.DataFrame(averages_by_project, columns=['name', 'vcs_system_id', 'no_CD', 'CD'])\n",
    "    "
   ]
  },
  {
   "cell_type": "code",
   "execution_count": null,
   "metadata": {},
   "outputs": [],
   "source": [
    "issues.query('issue_system_id == @tmp_issue_sistem & status == \\'Closed\\' ').issue_type.value_counts()"
   ]
  },
  {
   "cell_type": "code",
   "execution_count": null,
   "metadata": {},
   "outputs": [],
   "source": [
    "print('Projetos com media de issues fechadas maior após CD:', df_media_issues_periodo.query('no_CD < CD').count().iloc[0] )\n",
    "print('Projetos com media de issues fechadas menor após CD:', df_media_issues_periodo.query('no_CD > CD').count().iloc[0] )"
   ]
  },
  {
   "cell_type": "markdown",
   "metadata": {},
   "source": [
    "#### 4) Bugs reportados por release (affects_versions) -- Mais precisa -- Issues do tipo 'Bug' com affects_versions direcionado a um versão específica"
   ]
  },
  {
   "cell_type": "code",
   "execution_count": null,
   "metadata": {},
   "outputs": [],
   "source": [
    "listIssuesAffectsVersions = []\n",
    "for i in range(dfProjetosComCD.shape[0]):\n",
    "    AfVersionsDict = {}\n",
    "    tmp_issue_sistem = dfProjetosComCD.iloc[i,3]\n",
    "    tmp_name = dfProjetosComCD.iloc[i,0]\n",
    "    for i in issues.query('issue_system_id == @tmp_issue_sistem & issue_type == \\'Bug\\'').affects_versions:\n",
    "        if isinstance(i, list): \n",
    "            for j in i:\n",
    "                if j not in AfVersionsDict:\n",
    "                    AfVersionsDict[j] = 1\n",
    "                else:\n",
    "                    AfVersionsDict[j] += 1    \n",
    "    for key in AfVersionsDict:\n",
    "        tmp_key = re.sub(\"[^\\d\\.]\", \"\", key)\n",
    "        listIssuesAffectsVersions.append([tmp_name, tmp_issue_sistem, tmp_key, AfVersionsDict[key] ])\n",
    "df_Issues_Affects_versions = pd.DataFrame(listIssuesAffectsVersions, columns=['name', 'issue_sistem_id', 'version', 'bugs'])\n",
    "df_Issues_Affects_versions"
   ]
  },
  {
   "cell_type": "markdown",
   "metadata": {},
   "source": [
    "Apos validação manual da versão de adoção no issue sistem"
   ]
  },
  {
   "cell_type": "code",
   "execution_count": null,
   "metadata": {},
   "outputs": [],
   "source": [
    "adoption_version_issues_system = ['1.0.0', '1.5.4.1', '2.5','1.1.0','1.7.2','1.14','4.4.11','2.7.1', '4.2.0', '4.5.4', '3.6', '2.3.0', '0.4', '2.2', '0.53.0', '4.0.5', '0.9.0', '6.2', '1.8.2', '2.0.11', '2.1']\n",
    "dfProjetosComCD['adoption_version_issues_system'] = adoption_version_issues_system"
   ]
  },
  {
   "cell_type": "code",
   "execution_count": null,
   "metadata": {},
   "outputs": [],
   "source": [
    "listmedia_no_cd = []\n",
    "listmedia_cd = []\n",
    "listmediana_no_cd = []\n",
    "listmediana_cd = []\n",
    "for i in range(dfProjetosComCD.shape[0]):\n",
    "    tmp_issue_sistem = dfProjetosComCD.iloc[i,3]\n",
    "    tmp_version = dfProjetosComCD.iloc[i,12]\n",
    "    listmedia_no_cd.append(df_Issues_Affects_versions.query('issue_sistem_id == @tmp_issue_sistem & version < @tmp_version').bugs.mean())\n",
    "    listmedia_cd.append(df_Issues_Affects_versions.query('issue_sistem_id == @tmp_issue_sistem & version >= @tmp_version').bugs.mean())\n",
    "    listmediana_no_cd.append(df_Issues_Affects_versions.query('issue_sistem_id == @tmp_issue_sistem & version < @tmp_version').bugs.median())\n",
    "    listmediana_cd.append(df_Issues_Affects_versions.query('issue_sistem_id == @tmp_issue_sistem & version >= @tmp_version').bugs.median())\n",
    "dfProjetosComCD['afv_mean_open_bugs_no_cd'] = listmedia_no_cd\n",
    "dfProjetosComCD['afv_mean_open_bugs_cd'] = listmedia_cd\n",
    "dfProjetosComCD['afv_median_open_bugs_no_cd'] = listmediana_no_cd\n",
    "dfProjetosComCD['afv_median_open_bugs_cd'] = listmediana_cd"
   ]
  },
  {
   "cell_type": "code",
   "execution_count": null,
   "metadata": {},
   "outputs": [],
   "source": [
    "print('Projetos com media de Bugs reportados explicitamente maior após CD:', dfProjetosComCD.query('afv_mean_open_bugs_no_cd < afv_mean_open_bugs_cd').count().iloc[0])\n",
    "print('Projetos com media de Bugs reportados explicitamente menor após CD:', dfProjetosComCD.query('afv_mean_open_bugs_no_cd >= afv_mean_open_bugs_cd').count().iloc[0])\n",
    "print('Projetos com mediana de Bugs reportados explicitamente maior após CD:', dfProjetosComCD.query('afv_median_open_bugs_no_cd < afv_median_open_bugs_cd').count().iloc[0] )\n",
    "print('Projetos com mediana de Bugs reportados explicitamente menor após CD:', dfProjetosComCD.query('afv_median_open_bugs_no_cd >= afv_median_open_bugs_cd').count().iloc[0] )"
   ]
  },
  {
   "cell_type": "code",
   "execution_count": null,
   "metadata": {},
   "outputs": [],
   "source": [
    "dfProjetosComCD[['name','adoption_release', 'afv_mean_open_bugs_no_cd', 'afv_mean_open_bugs_cd' ,'afv_median_open_bugs_no_cd','afv_median_open_bugs_cd']]"
   ]
  },
  {
   "cell_type": "markdown",
   "metadata": {},
   "source": [
    "#### 5) Bugs reportados (abertos) no periodo por release -- Mais factual -- Issues do tipo 'Bug' e com created_at entre os periodos das relases"
   ]
  },
  {
   "cell_type": "code",
   "execution_count": null,
   "metadata": {},
   "outputs": [],
   "source": [
    "bugs_averages_by_project = []\n",
    "for i in range(dfProjetosComCD.shape[0]):\n",
    "    tmp_name = dfProjetosComCD.iloc[i,0]\n",
    "    tmp_vcs = dfProjetosComCD.iloc[i,1]\n",
    "    tmp_date = dfProjetosComCD.iloc[i,7]\n",
    "    tmp_issue_sistem = dfProjetosComCD.iloc[i,3]\n",
    "    ttm_tags_no_cd = tagsDeRelase.query('vcs_system_id == @tmp_vcs & date < @tmp_date ').sort_values(by='date')\n",
    "    ttm_tags_cd = tagsDeRelase.query('vcs_system_id == @tmp_vcs & date >= @tmp_date ').sort_values(by='date')\n",
    "    \n",
    "    bugs_average_no_cd = 0\n",
    "    bugs_median_no_cd = 0\n",
    "    aux_array = np.zeros((ttm_tags_no_cd.shape[0] - 1))\n",
    "    for j in range(0,ttm_tags_no_cd.shape[0] - 1):\n",
    "        data_release_anterior = ttm_tags_no_cd.iloc[j,6]\n",
    "        data_release_da_vez = ttm_tags_no_cd.iloc[j+1,6]\n",
    "        aux_array[j] = (issues.query('issue_system_id == @tmp_issue_sistem & issue_type == \\'Bug\\' & created_at > @data_release_anterior  & created_at <= @data_release_da_vez').shape[0])\n",
    "    bugs_average_no_cd = np.mean(aux_array)\n",
    "    bugs_median_no_cd = np.median(aux_array)\n",
    "    \n",
    "    bugs_average_cd = 0\n",
    "    bugs_median_cd = 0\n",
    "    aux_array = np.zeros((ttm_tags_cd.shape[0] - 1))\n",
    "    for j in range(0,ttm_tags_cd.shape[0] - 1):\n",
    "        data_release_anterior = ttm_tags_cd.iloc[j,6]\n",
    "        data_release_da_vez = ttm_tags_cd.iloc[j+1,6]\n",
    "        aux_array[j] = (issues.query('issue_system_id == @tmp_issue_sistem & issue_type == \\'Bug\\' & created_at > @data_release_anterior  & created_at <= @data_release_da_vez').shape[0])\n",
    "    bugs_average_cd = np.mean(aux_array)\n",
    "    bugs_median_cd = np.median(aux_array)\n",
    "\n",
    "    bugs_averages_by_project.append((tmp_name, tmp_vcs, bugs_average_no_cd, bugs_average_cd, bugs_median_no_cd, bugs_median_cd))\n",
    "df_media_bugs_abertos_entre_releases = pd.DataFrame(bugs_averages_by_project, columns=['name', 'vcs_system_id', 'no_CD_mean', 'CD_mean', 'no_CD_median', 'CD_median'])\n",
    "df_media_bugs_abertos_entre_releases[['name','no_CD_mean', 'CD_mean', 'no_CD_median', 'CD_median' ]]"
   ]
  },
  {
   "cell_type": "code",
   "execution_count": null,
   "metadata": {},
   "outputs": [],
   "source": [
    "df_media_bugs_abertos_entre_releases[['name','no_CD_mean', 'CD_mean', 'no_CD_median', 'CD_median' ]]"
   ]
  },
  {
   "cell_type": "code",
   "execution_count": null,
   "metadata": {},
   "outputs": [],
   "source": [
    "print('Projetos com media de Bugs reportados maior após CD:', df_media_bugs_abertos_entre_releases.query('no_CD_mean < CD_mean').count().iloc[0] )\n",
    "print('Projetos com media de Bugs reportados menor após CD:', df_media_bugs_abertos_entre_releases.query('no_CD_mean >= CD_mean').count().iloc[0] )\n",
    "print('Projetos com mediana de Bugs reportados maior após CD:', df_media_bugs_abertos_entre_releases.query('no_CD_median < CD_median').count().iloc[0] )\n",
    "print('Projetos com mediana de Bugs reportados menor após CD:', df_media_bugs_abertos_entre_releases.query('no_CD_median >= CD_median').count().iloc[0] )"
   ]
  },
  {
   "cell_type": "code",
   "execution_count": null,
   "metadata": {},
   "outputs": [],
   "source": [
    "listIssuesAffectsVersions = []\n",
    "bugsWithNoAffects = []\n",
    "for i in range(dfProjetosComCD.shape[0]):\n",
    "    AfVersionsDict = {}\n",
    "    tmp_issue_sistem = dfProjetosComCD.iloc[i,3]\n",
    "    tmp_name = dfProjetosComCD.iloc[i,0]\n",
    "    data = issues.query('issue_system_id == @tmp_issue_sistem & issue_type == \\'Bug\\'')\n",
    "    for i in range(data.shape[0]):\n",
    "        if isinstance(data.iloc[i].affects_versions, list): \n",
    "            for j in data.iloc[i].affects_versions:\n",
    "                if j not in AfVersionsDict:\n",
    "                    AfVersionsDict[j] = 1\n",
    "                else:\n",
    "                    AfVersionsDict[j] += 1\n",
    "        else:\n",
    "            bugsWithNoAffects.append(data.iloc[i])\n",
    "    for key in AfVersionsDict:\n",
    "        tmp_key = re.sub(\"[^\\d\\.]\", \"\", key)\n",
    "        listIssuesAffectsVersions.append([tmp_name, tmp_issue_sistem, tmp_key, AfVersionsDict[key] ])\n",
    "df_Issues_Affects_versions = pd.DataFrame(listIssuesAffectsVersions, columns=['name', 'issue_sistem_id', 'version', 'bugs'])\n",
    "df_Issues_Affects_versions"
   ]
  },
  {
   "cell_type": "code",
   "execution_count": null,
   "metadata": {},
   "outputs": [],
   "source": [
    "bugsWithNoAffects = pd.DataFrame(bugsWithNoAffects)"
   ]
  },
  {
   "cell_type": "code",
   "execution_count": null,
   "metadata": {},
   "outputs": [],
   "source": [
    "bugs_averages_by_project_no_affects = []\n",
    "for i in range(dfProjetosComCD.shape[0]):\n",
    "    tmp_name = dfProjetosComCD.iloc[i,0]\n",
    "    tmp_vcs = dfProjetosComCD.iloc[i,1]\n",
    "    tmp_date = dfProjetosComCD.iloc[i,7]\n",
    "    tmp_issue_sistem = dfProjetosComCD.iloc[i,3]\n",
    "    ttm_tags_no_cd = tagsDeRelase.query('vcs_system_id == @tmp_vcs & date < @tmp_date ').sort_values(by='date')\n",
    "    ttm_tags_cd = tagsDeRelase.query('vcs_system_id == @tmp_vcs & date >= @tmp_date ').sort_values(by='date')\n",
    "    \n",
    "    bugs_average_no_cd = 0\n",
    "    bugs_median_no_cd = 0\n",
    "    aux_array = np.zeros((ttm_tags_no_cd.shape[0] - 1))\n",
    "    for j in range(0,ttm_tags_no_cd.shape[0] - 1):\n",
    "        data_release_anterior = ttm_tags_no_cd.iloc[j,6]\n",
    "        data_release_da_vez = ttm_tags_no_cd.iloc[j+1,6]\n",
    "        aux_array[j] = (bugsWithNoAffects.query('issue_system_id == @tmp_issue_sistem & issue_type == \\'Bug\\' & created_at > @data_release_anterior  & created_at <= @data_release_da_vez').shape[0])\n",
    "    bugs_average_no_cd = np.mean(aux_array)\n",
    "    bugs_median_no_cd = np.median(aux_array)\n",
    "    \n",
    "    bugs_average_cd = 0\n",
    "    bugs_median_cd = 0\n",
    "    aux_array = np.zeros((ttm_tags_cd.shape[0] - 1))\n",
    "    for j in range(0,ttm_tags_cd.shape[0] - 1):\n",
    "        data_release_anterior = ttm_tags_cd.iloc[j,6]\n",
    "        data_release_da_vez = ttm_tags_cd.iloc[j+1,6]\n",
    "        aux_array[j] = (bugsWithNoAffects.query('issue_system_id == @tmp_issue_sistem & issue_type == \\'Bug\\' & created_at > @data_release_anterior  & created_at <= @data_release_da_vez').shape[0])\n",
    "    bugs_average_cd = np.mean(aux_array)\n",
    "    bugs_median_cd = np.median(aux_array)\n",
    "\n",
    "    bugs_averages_by_project_no_affects.append((tmp_name, tmp_vcs, bugs_average_no_cd, bugs_average_cd, bugs_median_no_cd, bugs_median_cd))\n",
    "df_media_bugs_abertos_entre_releases_no_affects = pd.DataFrame(bugs_averages_by_project_no_affects, columns=['name', 'vcs_system_id', 'no_CD_mean', 'CD_mean', 'no_CD_median', 'CD_median'])\n",
    "df_media_bugs_abertos_entre_releases_no_affects\n"
   ]
  },
  {
   "cell_type": "code",
   "execution_count": null,
   "metadata": {},
   "outputs": [],
   "source": [
    "test = dfProjetosComCD[['name', 'vcs_system_id', 'afv_mean_open_bugs_no_cd', 'afv_mean_open_bugs_cd', 'afv_median_open_bugs_no_cd', 'afv_median_open_bugs_cd']]\n",
    "test"
   ]
  },
  {
   "cell_type": "code",
   "execution_count": null,
   "metadata": {},
   "outputs": [],
   "source": [
    "for i in range(test.shape[0]):\n",
    "    test.iloc[i].afv_mean_open_bugs_no_cd += df_media_bugs_abertos_entre_releases_no_affects.iloc[i].no_CD_mean\n",
    "    test.iloc[i].afv_mean_open_bugs_cd += df_media_bugs_abertos_entre_releases_no_affects.iloc[i].CD_mean\n",
    "    test.iloc[i].afv_median_open_bugs_no_cd += df_media_bugs_abertos_entre_releases_no_affects.iloc[i].no_CD_median\n",
    "    test.iloc[i].afv_median_open_bugs_cd += df_media_bugs_abertos_entre_releases_no_affects.iloc[i].no_CD_median\n",
    "test"
   ]
  }
 ],
 "metadata": {
  "interpreter": {
   "hash": "1c558a1ced02d498681aefcfe1605afb298cecb176afb7a1bf00a777def5338c"
  },
  "kernelspec": {
   "display_name": "Python 3.10.1 64-bit",
   "language": "python",
   "name": "python3"
  },
  "language_info": {
   "codemirror_mode": {
    "name": "ipython",
    "version": 3
   },
   "file_extension": ".py",
   "mimetype": "text/x-python",
   "name": "python",
   "nbconvert_exporter": "python",
   "pygments_lexer": "ipython3",
   "version": "3.10.1"
  },
  "orig_nbformat": 4
 },
 "nbformat": 4,
 "nbformat_minor": 2
}
