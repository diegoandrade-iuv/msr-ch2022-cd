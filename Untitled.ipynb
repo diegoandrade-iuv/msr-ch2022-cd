{
 "cells": [
  {
   "cell_type": "code",
   "execution_count": 31,
   "id": "eb41624c-0172-482a-9ac0-8f748e4604e3",
   "metadata": {},
   "outputs": [],
   "source": [
    "import pandas as pd\n",
    "from pymongo import MongoClient\n",
    "client = MongoClient()\n",
    "db = client.smartshark_2_1"
   ]
  },
  {
   "cell_type": "markdown",
   "id": "12456daa",
   "metadata": {},
   "source": [
    "# Problemas possíveis de serem avaliados\n",
    "## impactos da implantação integração (Entrega) contínua \n",
    "### uma serie de impactos esperados, os dados confirmam?\n"
   ]
  },
  {
   "cell_type": "markdown",
   "id": "e19412b6",
   "metadata": {},
   "source": [
    "Preciso relacionar Issues X Builds:\n",
    "\n",
    "DS1\n",
    "    Issues\n",
    "    Issue_system\n",
    "    Project\n",
    "\n",
    "DS2\n",
    "    travis_build\n",
    "    vcs_system\n",
    "    Project\n",
    "\n",
    "DS3 travis_build -- > commit (branch)   \n",
    "    tag"
   ]
  },
  {
   "cell_type": "markdown",
   "id": "4b208f94",
   "metadata": {},
   "source": [
    "rate of time to market = taxa de entrega\n",
    "issues over time\n",
    "bugs abertos\n",
    "bugs fechados\n",
    "\n",
    "numero de contribuidores"
   ]
  },
  {
   "cell_type": "markdown",
   "id": "8bd6e81f",
   "metadata": {},
   "source": [
    "Com um intervalo para o inicio > 6 meses (implantação) (1 commit ou 1 issue com mais de 6 meses de diferença pra primeira entrega)\n",
    "se o projeto tem tags e só depois de um tempo tem tag com build associado\n",
    "\n",
    "Commits --> Master --> tags --> build c\\ sucesso associado (entrega)\n",
    "\n",
    "Quantos participantes?\n",
    "Quantas issues associadas aos commits ? \n",
    "Quantas issues desde a ultima entrega ?\n",
    "Quantas issues associadas a Afected_Version e Fix_version?\n",
    "Quantas issues associadas a Fix_version?"
   ]
  },
  {
   "cell_type": "markdown",
   "id": "984eb785",
   "metadata": {},
   "source": [
    "Quantas issues foram fechadas entre as entregas? Dessas quantas de bug? quantas de improvments?"
   ]
  },
  {
   "cell_type": "code",
   "execution_count": 32,
   "id": "3d71d19d",
   "metadata": {},
   "outputs": [],
   "source": [
    "issues = pd.DataFrame(list(db.issue.find()))\n",
    "issue_systems =  pd.DataFrame(list(db.issue_system.find()))\n",
    "projects =  pd.DataFrame(list(db.project.find()))\n",
    "vcs_systems = pd.DataFrame(list(db.vcs_system.find()))\n",
    "travisBuilds = pd.DataFrame(list(db.travis_build.find()))"
   ]
  },
  {
   "cell_type": "code",
   "execution_count": 55,
   "id": "7a6c2f39",
   "metadata": {},
   "outputs": [],
   "source": [
    "issues = pd.DataFrame(list(db.issue.find()))"
   ]
  },
  {
   "cell_type": "code",
   "execution_count": 77,
   "id": "94c867f8",
   "metadata": {},
   "outputs": [
    {
     "data": {
      "text/plain": [
       "5bd0268235e3ea2b7bbfdbae    10963\n",
       "5b34a9c830a71b06bc3d9ef3     9945\n",
       "5bc5d34957674ee16701b68a     8117\n",
       "5b110f43328aa9d53131e747     7194\n",
       "5b7ffe9530a71b06bc70c038     7135\n",
       "5b43737430a71b06bcbdd168     6274\n",
       "5d91bc603dfe5ddb85cc81c8     4778\n",
       "5bbe0f4057674ee16793f245     2319\n",
       "5b23df3c30a71b06bc01e16a     2093\n",
       "5b3b305530a71b06bc5bba5b     1988\n",
       "5b47693d30a71b06bc04ba2e     1900\n",
       "5d8ccfb33dfe5ddb8590d841     1834\n",
       "5b27c64830a71b06bceb0ead     1391\n",
       "5cd2806d504acf99a4cd728c     1367\n",
       "5bdb4f2435e3ea2b7ba43f09     1272\n",
       "5c3f0a7c621a9a77b35f3add     1140\n",
       "5bed61cc35e3ea2b7b2a1805     1121\n",
       "5beea15335e3ea2b7b3e6812     1116\n",
       "5da726db3dfe5ddb85120d96     1108\n",
       "608b9b33c26a57681ebf90b6      928\n",
       "5b1fa04730a71b06bc3734c1      916\n",
       "5b76bead30a71b06bcadc156      907\n",
       "5bed25af35e3ea2b7b8bb711      866\n",
       "5bf29f3b35e3ea2b7b336810      825\n",
       "5bc5fafb57674ee1670aebb4      760\n",
       "60a24ad9c26a57681e786a7b      711\n",
       "5c87a96c504acf99a4de5a18      655\n",
       "5bee7d5b35e3ea2b7ba0248c      468\n",
       "5bed5a4635e3ea2b7ba10f97      450\n",
       "5bed83ca35e3ea2b7be8d7c9      448\n",
       "5c87a755504acf99a4dbf833      410\n",
       "58bfd79dfa94f2c7f0d32551      403\n",
       "5bef24dc35e3ea2b7bc08208      391\n",
       "5d91bc213dfe5ddb85cc1e0e      372\n",
       "5bf29f3835e3ea2b7b32fab0      252\n",
       "5bef240c35e3ea2b7bbd7dca      249\n",
       "5bed279735e3ea2b7b9d059e      214\n",
       "5bee7d5b35e3ea2b7ba03bfa      149\n",
       "608c3a6cc26a57681e5764e8       61\n",
       "5bee7a1f35e3ea2b7b2f8cf7       26\n",
       "Name: vcs_system_id, dtype: int64"
      ]
     },
     "execution_count": 77,
     "metadata": {},
     "output_type": "execute_result"
    }
   ],
   "source": [
    "travisBuilds.vcs_system_id.value_counts()"
   ]
  }
 ],
 "metadata": {
  "kernelspec": {
   "display_name": "Python 3 (ipykernel)",
   "language": "python",
   "name": "python3"
  },
  "language_info": {
   "codemirror_mode": {
    "name": "ipython",
    "version": 3
   },
   "file_extension": ".py",
   "mimetype": "text/x-python",
   "name": "python",
   "nbconvert_exporter": "python",
   "pygments_lexer": "ipython3",
   "version": "3.10.1"
  }
 },
 "nbformat": 4,
 "nbformat_minor": 5
}
