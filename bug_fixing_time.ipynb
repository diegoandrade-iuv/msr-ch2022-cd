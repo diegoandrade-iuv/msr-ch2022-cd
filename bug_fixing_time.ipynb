{
 "cells": [
  {
   "cell_type": "code",
   "execution_count": 1,
   "metadata": {},
   "outputs": [],
   "source": [
    "import pandas as pd\n",
    "pd.options.mode.chained_assignment = None  # default='warn'\n",
    "from pymongo import MongoClient\n",
    "from bson.objectid import ObjectId\n",
    "from datetime import timedelta\n",
    "from scipy.stats import wilcoxon, mannwhitneyu, combine_pvalues\n",
    "from cliffs_delta import cliffs_delta\n",
    "import numpy as np\n",
    "import datetime\n",
    "import re\n",
    "client = MongoClient()\n",
    "db = client.smartshark_2_2\n",
    "vcs_systems = pd.DataFrame(list(db.vcs_system.find()))\n",
    "travisBuilds = pd.DataFrame(list(db.travis_build.find()))\n",
    "tags = pd.DataFrame(list(db.tag.find()))\n",
    "issues = pd.DataFrame(list(db.issue.find()))"
   ]
  },
  {
   "cell_type": "code",
   "execution_count": 2,
   "metadata": {},
   "outputs": [],
   "source": [
    "# IC\n",
    "projetosComBuilds = travisBuilds['vcs_system_id'].unique()\n",
    "\n",
    "# Tags of project with IC\n",
    "idsVcsComBuilds = vcs_systems.query('_id.isin(@projetosComBuilds)').drop_duplicates().dropna()._id\n",
    "tagsDosProjComBuild = tags.query('vcs_system_id.isin(@idsVcsComBuilds)').drop_duplicates().dropna()\n",
    "\n",
    "#Release Tags\n",
    "tagsDeRelase = tagsDosProjComBuild[\n",
    "    tagsDosProjComBuild['name']\n",
    "    .str.contains('rc|RC|candidate|CANDIDATE|beta|BETA|alpha|ALPHA')==False].drop_duplicates().dropna()\n",
    "\n",
    "# Valid Builds of Release Tags\n",
    "commitsDeRelease = tagsDeRelase.commit_id.unique()\n",
    "buildsIntegrados = travisBuilds.query('commit_id.isin(@commitsDeRelease)')\n",
    "stateIndesejados = ['failed', 'canceled']\n",
    "BuildsValidos = buildsIntegrados.query('~state.isin(@stateIndesejados)')\n",
    "\n",
    "#Projects with valid builds for their releases\n",
    "vcsComEntrega = BuildsValidos.vcs_system_id.unique()\n",
    "\n",
    "# Aggregate builds with the same commit\n",
    "BuildsValidosPorCommit = BuildsValidos.groupby(['commit_id'], as_index=False, sort=False).max()\n",
    "\n",
    "# get the projects with > 2 valid builds for an unique commit (for time to market measurement)\n",
    "vcsComCD = BuildsValidosPorCommit[['vcs_system_id','_id']].groupby(['vcs_system_id'], as_index=False).agg('count').sort_values(by=['_id'], ascending=False)\n",
    "vcsComCD = vcsComCD.query('_id > 1')"
   ]
  },
  {
   "cell_type": "code",
   "execution_count": 3,
   "metadata": {},
   "outputs": [],
   "source": [
    "count = 0\n",
    "vcsList= []\n",
    "for i in range(vcsComCD.shape[0]):\n",
    "    vcs = vcsComCD.iloc[i,0]\n",
    "    commit_id_DaBuilld = BuildsValidosPorCommit.query('vcs_system_id == @vcs').sort_values(by=['started_at']).iloc[0,0]\n",
    "    data_de_adocao = tagsDeRelase.query('commit_id == @commit_id_DaBuilld').iloc[0,6]\n",
    "    a = tagsDeRelase.query('vcs_system_id == @vcs & date >= @data_de_adocao').count().iloc[0]\n",
    "    b = BuildsValidosPorCommit.query('vcs_system_id == @vcs & started_at >= @data_de_adocao').count().iloc[0]\n",
    "    #print(a,b)\n",
    "    if (a == b ):\n",
    "        vcsList.append(vcs)\n"
   ]
  },
  {
   "cell_type": "code",
   "execution_count": 4,
   "metadata": {},
   "outputs": [],
   "source": [
    "#Select the projects with CD\n",
    "vcsList= []\n",
    "for index, row in vcsComCD.iterrows():\n",
    "    vcsList.append(row.vcs_system_id)\n",
    "    \n",
    "issue_system = pd.DataFrame(list(db.issue_system.find()))\n",
    "projects = pd.DataFrame(list(db.project.find()))\n",
    "listaDosProjetosComCD = [] \n",
    "issues_system_ids = []\n",
    "for vcs in vcsList:\n",
    "    # Buscar informações sobre o projeto\n",
    "    project_id = vcs_systems.query('_id == @vcs').iloc[0,2] \n",
    "\n",
    "    #nome do projeto\n",
    "    name = projects.query('_id == @project_id').iloc[0,1]     \n",
    "\n",
    "    # Informações sobre o issue system\n",
    "    issues_system_id = issue_system.query('project_id == @project_id').iloc[0,0]\n",
    "    issues_system_ids.append(issues_system_id)   \n",
    "\n",
    "    # Pegar o commit da build considerada como a build de adoção (Analisar necessidade de tirar a primeira)\n",
    "    commit_id_DaBuilld = BuildsValidosPorCommit.query('vcs_system_id == @vcs').sort_values(by=['started_at']).iloc[0,0]\n",
    "    \n",
    "\n",
    "    # Pegar a release com o commit de build de adoção\n",
    "    id_tag_Adocao_CD = tagsDeRelase.query('commit_id == @commit_id_DaBuilld').iloc[0,0]\n",
    "    nome_da_releasa = tagsDeRelase.query('commit_id == @commit_id_DaBuilld').iloc[0,1]\n",
    "    data_de_adocao = tagsDeRelase.query('commit_id == @commit_id_DaBuilld').iloc[0,6]\n",
    "\n",
    "    listaDosProjetosComCD.append([name , vcs,project_id, issues_system_id, commit_id_DaBuilld, id_tag_Adocao_CD, nome_da_releasa, data_de_adocao  ])\n",
    "\n",
    "dfProjetosComCD = pd.DataFrame(listaDosProjetosComCD, columns=['name', 'vcs_system_id', 'project_id', 'issues_system_id', 'commit_id', 'tag_id','adoption_release', 'cd_adoption_date' ])"
   ]
  },
  {
   "cell_type": "code",
   "execution_count": 5,
   "metadata": {},
   "outputs": [
    {
     "name": "stdout",
     "output_type": "stream",
     "text": [
      "1092 560 nifi\n",
      "426 612 kylin\n",
      "66 1622 struts\n",
      "387 541 storm\n",
      "61 202 opennlp\n",
      "32 166 commons-compress\n",
      "32 196 httpcomponents-core\n",
      "68 616 manifoldcf\n",
      "16 175 curator\n",
      "11 757 httpcomponents-client\n",
      "34 407 commons-lang\n",
      "12 227 commons-dbcp\n",
      "46 58 streams\n",
      "18 285 commons-configuration\n",
      "12 165 qpid-jms\n",
      "105 711 cayenne\n",
      "134 1142 tez\n",
      "193 190 parquet-mr\n",
      "38 1862 pdfbox\n",
      "11 84 commons-jcs\n",
      "453 651 airavata\n",
      "341 717 calcite\n",
      "17 12 freemarker\n"
     ]
    }
   ],
   "source": [
    "issuesProjetosCD = issues.query('issue_system_id.isin(@issues_system_ids)')\n",
    "media_bugs_no_cd = []\n",
    "mediana_bugs_no_cd = []\n",
    "media_bugs_cd = []\n",
    "mediana_bugs_cd = []\n",
    "p_values = []\n",
    "\n",
    "for i in range(dfProjetosComCD.shape[0]):\n",
    "    tmp_name = dfProjetosComCD.iloc[i,0]    \n",
    "    tmp_date = dfProjetosComCD.iloc[i,7]\n",
    "    tmp_issue_sistem = dfProjetosComCD.iloc[i,3]\n",
    "    df_bugs_cd = issuesProjetosCD.query('issue_system_id == @tmp_issue_sistem & issue_type == \\'Bug\\' & resolution == \\'Fixed\\' &  status.isin([\\'Closed\\',\\'Resolved\\']) & created_at >= @tmp_date')\n",
    "    #init_date = tmp_date - (1*(df_bugs_cd.updated_at.max() - tmp_date))\n",
    "    \n",
    "    df_bugs_no_cd = issuesProjetosCD.query('issue_system_id == @tmp_issue_sistem & issue_type == \\'Bug\\' & resolution == \\'Fixed\\' &  status.isin([\\'Closed\\',\\'Resolved\\']) &  updated_at < @tmp_date')\n",
    "    #df_bugs_no_cd = issuesProjetosCD.query('issue_system_id == @tmp_issue_sistem & issue_type == \\'Bug\\' & resolution == \\'Fixed\\' &  status.isin([\\'Closed\\',\\'Resolved\\']) & created_at >= @init_date &  updated_at < @tmp_date')\n",
    "    df_bugs_no_cd['delta'] = df_bugs_no_cd.updated_at - df_bugs_no_cd.created_at\n",
    "    media_bugs_no_cd.append(df_bugs_no_cd.delta.mean())\n",
    "    mediana_bugs_no_cd.append(df_bugs_no_cd.delta.median())\n",
    "    \n",
    "    \n",
    "    df_bugs_cd['delta'] = df_bugs_cd.updated_at - df_bugs_cd.created_at\n",
    "    if(df_bugs_cd.shape[0]>8 and df_bugs_no_cd.shape[0]>8):\n",
    "        u,p = mannwhitneyu(df_bugs_cd['delta'], df_bugs_no_cd['delta'], alternative= \"greater\")\n",
    "        p_values.append(p)\n",
    "        print(df_bugs_cd.shape[0],df_bugs_no_cd.shape[0],tmp_name)\n",
    "    media_bugs_cd.append(df_bugs_cd.delta.mean())\n",
    "    mediana_bugs_cd.append(df_bugs_cd.delta.median())\n",
    "\n",
    "\n",
    "dfProjetosComCD['mean_delta_bugs_no_cd'] = media_bugs_no_cd\n",
    "dfProjetosComCD['median_delta_bugs_no_cd'] = mediana_bugs_no_cd\n",
    "dfProjetosComCD['mean_delta_bugs_cd'] = media_bugs_cd\n",
    "dfProjetosComCD['median_delta_bugs_cd'] = mediana_bugs_cd"
   ]
  },
  {
   "cell_type": "code",
   "execution_count": 16,
   "metadata": {},
   "outputs": [
    {
     "name": "stdout",
     "output_type": "stream",
     "text": [
      "Projetos tempo medio de correção de bugs maior após CD: 6\n",
      "Projetos tempo medio de correção de bugs menor após CD: 19\n",
      "Projetos com mediana do tempo de correção de bugs maior após CD: 8\n",
      "Projetos com mediana do tempo de correção de bugs maior após CD: 17\n"
     ]
    }
   ],
   "source": [
    "print('Projetos tempo medio de correção de bugs maior após CD:', dfProjetosComCD.query('mean_delta_bugs_no_cd < mean_delta_bugs_cd').count().iloc[0] )\n",
    "print('Projetos tempo medio de correção de bugs menor após CD:', dfProjetosComCD.query('mean_delta_bugs_no_cd >= mean_delta_bugs_cd').count().iloc[0] )\n",
    "print('Projetos com mediana do tempo de correção de bugs maior após CD:', dfProjetosComCD.query('median_delta_bugs_no_cd < median_delta_bugs_cd').count().iloc[0] )\n",
    "print('Projetos com mediana do tempo de correção de bugs maior após CD:', dfProjetosComCD.query('median_delta_bugs_no_cd >= median_delta_bugs_cd').count().iloc[0] )"
   ]
  },
  {
   "cell_type": "code",
   "execution_count": 17,
   "metadata": {},
   "outputs": [
    {
     "data": {
      "text/plain": [
       "(0.4368, 'medium')"
      ]
     },
     "execution_count": 17,
     "metadata": {},
     "output_type": "execute_result"
    }
   ],
   "source": [
    "cliffs_delta((dfProjetosComCD['median_delta_bugs_no_cd'] / np.timedelta64(1,'D')), (dfProjetosComCD['median_delta_bugs_cd'] / np.timedelta64(1,'D')))"
   ]
  },
  {
   "cell_type": "code",
   "execution_count": 18,
   "metadata": {},
   "outputs": [
    {
     "data": {
      "text/plain": [
       "(0.5904, 'large')"
      ]
     },
     "execution_count": 18,
     "metadata": {},
     "output_type": "execute_result"
    }
   ],
   "source": [
    "cliffs_delta((dfProjetosComCD['mean_delta_bugs_no_cd'] / np.timedelta64(1,'D')), (dfProjetosComCD['mean_delta_bugs_cd'] / np.timedelta64(1,'D')))"
   ]
  },
  {
   "cell_type": "code",
   "execution_count": 19,
   "metadata": {},
   "outputs": [
    {
     "data": {
      "text/plain": [
       "WilcoxonResult(statistic=294.0, pvalue=6.99460506439209e-05)"
      ]
     },
     "execution_count": 19,
     "metadata": {},
     "output_type": "execute_result"
    }
   ],
   "source": [
    "wilcoxon((dfProjetosComCD['mean_delta_bugs_no_cd'] / np.timedelta64(1,'D')), (dfProjetosComCD['mean_delta_bugs_cd'] / np.timedelta64(1,'D')), alternative='greater')"
   ]
  },
  {
   "cell_type": "code",
   "execution_count": 20,
   "metadata": {},
   "outputs": [
    {
     "data": {
      "text/plain": [
       "WilcoxonResult(statistic=275.0, pvalue=0.0008126795291900635)"
      ]
     },
     "execution_count": 20,
     "metadata": {},
     "output_type": "execute_result"
    }
   ],
   "source": [
    "wilcoxon((dfProjetosComCD['median_delta_bugs_no_cd'] / np.timedelta64(1,'D')), (dfProjetosComCD['median_delta_bugs_cd'] / np.timedelta64(1,'D')), alternative='greater' )"
   ]
  },
  {
   "cell_type": "code",
   "execution_count": 21,
   "metadata": {},
   "outputs": [
    {
     "ename": "KeyError",
     "evalue": "\"['mean_delta_bugs_no_cd_min', 'mean_delta_bugs_cd_min', 'median_delta_bugs_no_cd_min', 'median_delta_bugs_cd_min'] not in index\"",
     "output_type": "error",
     "traceback": [
      "\u001b[1;31m---------------------------------------------------------------------------\u001b[0m",
      "\u001b[1;31mKeyError\u001b[0m                                  Traceback (most recent call last)",
      "\u001b[1;32m~\\AppData\\Local\\Temp/ipykernel_24020/4014276974.py\u001b[0m in \u001b[0;36m<module>\u001b[1;34m\u001b[0m\n\u001b[1;32m----> 1\u001b[1;33m \u001b[0mtabela1\u001b[0m \u001b[1;33m=\u001b[0m \u001b[0mdfProjetosComCD\u001b[0m\u001b[1;33m[\u001b[0m\u001b[1;33m[\u001b[0m\u001b[1;34m'name'\u001b[0m\u001b[1;33m,\u001b[0m\u001b[1;34m'cd_adoption_date'\u001b[0m\u001b[1;33m,\u001b[0m\u001b[1;34m'mean_delta_bugs_no_cd_min'\u001b[0m\u001b[1;33m,\u001b[0m\u001b[1;34m'mean_delta_bugs_cd_min'\u001b[0m\u001b[1;33m,\u001b[0m \u001b[1;34m'median_delta_bugs_no_cd_min'\u001b[0m\u001b[1;33m,\u001b[0m\u001b[1;34m'median_delta_bugs_cd_min'\u001b[0m \u001b[1;33m]\u001b[0m\u001b[1;33m]\u001b[0m\u001b[1;33m.\u001b[0m\u001b[0mto_csv\u001b[0m\u001b[1;33m(\u001b[0m\u001b[1;34m'tabela1.csv'\u001b[0m\u001b[1;33m,\u001b[0m \u001b[0mindex\u001b[0m\u001b[1;33m=\u001b[0m\u001b[1;32mFalse\u001b[0m\u001b[1;33m)\u001b[0m\u001b[1;33m\u001b[0m\u001b[1;33m\u001b[0m\u001b[0m\n\u001b[0m",
      "\u001b[1;32m~\\AppData\\Local\\Programs\\Python\\Python310\\lib\\site-packages\\pandas\\core\\frame.py\u001b[0m in \u001b[0;36m__getitem__\u001b[1;34m(self, key)\u001b[0m\n\u001b[0;32m   3462\u001b[0m             \u001b[1;32mif\u001b[0m \u001b[0mis_iterator\u001b[0m\u001b[1;33m(\u001b[0m\u001b[0mkey\u001b[0m\u001b[1;33m)\u001b[0m\u001b[1;33m:\u001b[0m\u001b[1;33m\u001b[0m\u001b[1;33m\u001b[0m\u001b[0m\n\u001b[0;32m   3463\u001b[0m                 \u001b[0mkey\u001b[0m \u001b[1;33m=\u001b[0m \u001b[0mlist\u001b[0m\u001b[1;33m(\u001b[0m\u001b[0mkey\u001b[0m\u001b[1;33m)\u001b[0m\u001b[1;33m\u001b[0m\u001b[1;33m\u001b[0m\u001b[0m\n\u001b[1;32m-> 3464\u001b[1;33m             \u001b[0mindexer\u001b[0m \u001b[1;33m=\u001b[0m \u001b[0mself\u001b[0m\u001b[1;33m.\u001b[0m\u001b[0mloc\u001b[0m\u001b[1;33m.\u001b[0m\u001b[0m_get_listlike_indexer\u001b[0m\u001b[1;33m(\u001b[0m\u001b[0mkey\u001b[0m\u001b[1;33m,\u001b[0m \u001b[0maxis\u001b[0m\u001b[1;33m=\u001b[0m\u001b[1;36m1\u001b[0m\u001b[1;33m)\u001b[0m\u001b[1;33m[\u001b[0m\u001b[1;36m1\u001b[0m\u001b[1;33m]\u001b[0m\u001b[1;33m\u001b[0m\u001b[1;33m\u001b[0m\u001b[0m\n\u001b[0m\u001b[0;32m   3465\u001b[0m \u001b[1;33m\u001b[0m\u001b[0m\n\u001b[0;32m   3466\u001b[0m         \u001b[1;31m# take() does not accept boolean indexers\u001b[0m\u001b[1;33m\u001b[0m\u001b[1;33m\u001b[0m\u001b[0m\n",
      "\u001b[1;32m~\\AppData\\Local\\Programs\\Python\\Python310\\lib\\site-packages\\pandas\\core\\indexing.py\u001b[0m in \u001b[0;36m_get_listlike_indexer\u001b[1;34m(self, key, axis)\u001b[0m\n\u001b[0;32m   1312\u001b[0m             \u001b[0mkeyarr\u001b[0m\u001b[1;33m,\u001b[0m \u001b[0mindexer\u001b[0m\u001b[1;33m,\u001b[0m \u001b[0mnew_indexer\u001b[0m \u001b[1;33m=\u001b[0m \u001b[0max\u001b[0m\u001b[1;33m.\u001b[0m\u001b[0m_reindex_non_unique\u001b[0m\u001b[1;33m(\u001b[0m\u001b[0mkeyarr\u001b[0m\u001b[1;33m)\u001b[0m\u001b[1;33m\u001b[0m\u001b[1;33m\u001b[0m\u001b[0m\n\u001b[0;32m   1313\u001b[0m \u001b[1;33m\u001b[0m\u001b[0m\n\u001b[1;32m-> 1314\u001b[1;33m         \u001b[0mself\u001b[0m\u001b[1;33m.\u001b[0m\u001b[0m_validate_read_indexer\u001b[0m\u001b[1;33m(\u001b[0m\u001b[0mkeyarr\u001b[0m\u001b[1;33m,\u001b[0m \u001b[0mindexer\u001b[0m\u001b[1;33m,\u001b[0m \u001b[0maxis\u001b[0m\u001b[1;33m)\u001b[0m\u001b[1;33m\u001b[0m\u001b[1;33m\u001b[0m\u001b[0m\n\u001b[0m\u001b[0;32m   1315\u001b[0m \u001b[1;33m\u001b[0m\u001b[0m\n\u001b[0;32m   1316\u001b[0m         if needs_i8_conversion(ax.dtype) or isinstance(\n",
      "\u001b[1;32m~\\AppData\\Local\\Programs\\Python\\Python310\\lib\\site-packages\\pandas\\core\\indexing.py\u001b[0m in \u001b[0;36m_validate_read_indexer\u001b[1;34m(self, key, indexer, axis)\u001b[0m\n\u001b[0;32m   1375\u001b[0m \u001b[1;33m\u001b[0m\u001b[0m\n\u001b[0;32m   1376\u001b[0m             \u001b[0mnot_found\u001b[0m \u001b[1;33m=\u001b[0m \u001b[0mlist\u001b[0m\u001b[1;33m(\u001b[0m\u001b[0mensure_index\u001b[0m\u001b[1;33m(\u001b[0m\u001b[0mkey\u001b[0m\u001b[1;33m)\u001b[0m\u001b[1;33m[\u001b[0m\u001b[0mmissing_mask\u001b[0m\u001b[1;33m.\u001b[0m\u001b[0mnonzero\u001b[0m\u001b[1;33m(\u001b[0m\u001b[1;33m)\u001b[0m\u001b[1;33m[\u001b[0m\u001b[1;36m0\u001b[0m\u001b[1;33m]\u001b[0m\u001b[1;33m]\u001b[0m\u001b[1;33m.\u001b[0m\u001b[0munique\u001b[0m\u001b[1;33m(\u001b[0m\u001b[1;33m)\u001b[0m\u001b[1;33m)\u001b[0m\u001b[1;33m\u001b[0m\u001b[1;33m\u001b[0m\u001b[0m\n\u001b[1;32m-> 1377\u001b[1;33m             \u001b[1;32mraise\u001b[0m \u001b[0mKeyError\u001b[0m\u001b[1;33m(\u001b[0m\u001b[1;34mf\"{not_found} not in index\"\u001b[0m\u001b[1;33m)\u001b[0m\u001b[1;33m\u001b[0m\u001b[1;33m\u001b[0m\u001b[0m\n\u001b[0m\u001b[0;32m   1378\u001b[0m \u001b[1;33m\u001b[0m\u001b[0m\n\u001b[0;32m   1379\u001b[0m \u001b[1;33m\u001b[0m\u001b[0m\n",
      "\u001b[1;31mKeyError\u001b[0m: \"['mean_delta_bugs_no_cd_min', 'mean_delta_bugs_cd_min', 'median_delta_bugs_no_cd_min', 'median_delta_bugs_cd_min'] not in index\""
     ]
    }
   ],
   "source": [
    "tabela1 = dfProjetosComCD[['name','cd_adoption_date','mean_delta_bugs_no_cd_min','mean_delta_bugs_cd_min', 'median_delta_bugs_no_cd_min','median_delta_bugs_cd_min' ]].to_csv('tabela1.csv', index=False)"
   ]
  },
  {
   "cell_type": "code",
   "execution_count": 22,
   "metadata": {},
   "outputs": [],
   "source": [
    "dfProjetosComCD['mean_delta_bugs_no_cd_min'] = dfProjetosComCD.mean_delta_bugs_no_cd / datetime.timedelta(minutes=1)\n",
    "dfProjetosComCD['mean_delta_bugs_cd_min'] = dfProjetosComCD.mean_delta_bugs_cd / datetime.timedelta(minutes=1)\n",
    "dfProjetosComCD['median_delta_bugs_no_cd_min'] = dfProjetosComCD.median_delta_bugs_no_cd / datetime.timedelta(minutes=1)\n",
    "dfProjetosComCD['median_delta_bugs_cd_min'] = dfProjetosComCD.median_delta_bugs_cd / datetime.timedelta(minutes=1)"
   ]
  },
  {
   "cell_type": "code",
   "execution_count": 34,
   "metadata": {},
   "outputs": [
    {
     "data": {
      "text/plain": [
       "<AxesSubplot:>"
      ]
     },
     "execution_count": 34,
     "metadata": {},
     "output_type": "execute_result"
    },
    {
     "data": {
      "image/png": "[encoded data removed]",
      "text/plain": [
       "<Figure size 432x288 with 1 Axes>"
      ]
     },
     "metadata": {
      "needs_background": "light"
     },
     "output_type": "display_data"
    }
   ],
   "source": [
    "dfProjetosComCD[['name','cd_adoption_date','mean_delta_bugs_no_cd_min','mean_delta_bugs_cd_min', 'median_delta_bugs_no_cd_min','median_delta_bugs_cd_min' ]].to_csv('tabela1.csv', index=False)"
   ]
  },
  {
   "cell_type": "markdown",
   "metadata": {},
   "source": [
    "CSV for Visualization"
   ]
  },
  {
   "cell_type": "code",
   "execution_count": 25,
   "metadata": {},
   "outputs": [],
   "source": [
    "bugsCDProjects = issuesProjetosCD.query('issue_type == \\'Bug\\' & status == \\'Closed\\'')\n",
    "bugsCDProjects['post_CD'] = False \n",
    "for i in range(dfProjetosComCD.shape[0]):\n",
    "    tmp_date = dfProjetosComCD.loc[i,'cd_adoption_date']\n",
    "    tmp_issue_sistem =  dfProjetosComCD.loc[i,'issues_system_id']\n",
    "    bugsCDProjects.loc[(bugsCDProjects['issue_system_id']== tmp_issue_sistem) & (bugsCDProjects['created_at']>= tmp_date),'post_CD'] = True\n"
   ]
  },
  {
   "cell_type": "code",
   "execution_count": 26,
   "metadata": {},
   "outputs": [],
   "source": [
    "bugsCDProjects[['_id','external_id','issue_system_id', 'created_at', 'updated_at','priority', 'affects_versions',  'resolution', 'original_time_estimate','post_CD'] ].to_csv('bugs_of_CD_projects.csv', index=False, sep=';')"
   ]
  },
  {
   "cell_type": "markdown",
   "metadata": {},
   "source": [
    "Count Team contributors per project "
   ]
  },
  {
   "cell_type": "code",
   "execution_count": 27,
   "metadata": {},
   "outputs": [],
   "source": [
    "#dfProjetosComCD[['name','cd_adoption_date']].to_csv('contributors.csv',index=False)"
   ]
  },
  {
   "cell_type": "code",
   "execution_count": 28,
   "metadata": {},
   "outputs": [
    {
     "data": {
      "text/plain": [
       "(Timestamp('2001-01-22 14:46:21'), Timestamp('2021-10-27 14:25:20.412000'))"
      ]
     },
     "execution_count": 28,
     "metadata": {},
     "output_type": "execute_result"
    }
   ],
   "source": [
    "issues.created_at.min(), issues.updated_at.max()"
   ]
  },
  {
   "cell_type": "code",
   "execution_count": 29,
   "metadata": {},
   "outputs": [
    {
     "ename": "NameError",
     "evalue": "name 'bft_after' is not defined",
     "output_type": "error",
     "traceback": [
      "\u001b[1;31m---------------------------------------------------------------------------\u001b[0m",
      "\u001b[1;31mNameError\u001b[0m                                 Traceback (most recent call last)",
      "\u001b[1;32m~\\AppData\\Local\\Temp/ipykernel_24020/382890621.py\u001b[0m in \u001b[0;36m<module>\u001b[1;34m\u001b[0m\n\u001b[0;32m      1\u001b[0m \u001b[0mp_values\u001b[0m \u001b[1;33m=\u001b[0m \u001b[1;33m[\u001b[0m\u001b[1;33m]\u001b[0m\u001b[1;33m\u001b[0m\u001b[1;33m\u001b[0m\u001b[0m\n\u001b[0;32m      2\u001b[0m \u001b[1;32mfor\u001b[0m \u001b[0mi\u001b[0m \u001b[1;32min\u001b[0m \u001b[0mrange\u001b[0m\u001b[1;33m(\u001b[0m\u001b[0mdfProjetosComCD\u001b[0m\u001b[1;33m.\u001b[0m\u001b[0mshape\u001b[0m\u001b[1;33m[\u001b[0m\u001b[1;36m0\u001b[0m\u001b[1;33m]\u001b[0m\u001b[1;33m)\u001b[0m\u001b[1;33m:\u001b[0m\u001b[1;33m\u001b[0m\u001b[1;33m\u001b[0m\u001b[0m\n\u001b[1;32m----> 3\u001b[1;33m     \u001b[0mu\u001b[0m\u001b[1;33m,\u001b[0m\u001b[0mp\u001b[0m \u001b[1;33m=\u001b[0m \u001b[0mmannwhitneyu\u001b[0m\u001b[1;33m(\u001b[0m\u001b[0mbft_after\u001b[0m\u001b[1;33m,\u001b[0m \u001b[0mbft_before\u001b[0m\u001b[1;33m,\u001b[0m \u001b[0malternative\u001b[0m\u001b[1;33m=\u001b[0m \u001b[1;34m\"greater\"\u001b[0m\u001b[1;33m)\u001b[0m\u001b[1;33m\u001b[0m\u001b[1;33m\u001b[0m\u001b[0m\n\u001b[0m",
      "\u001b[1;31mNameError\u001b[0m: name 'bft_after' is not defined"
     ]
    }
   ],
   "source": [
    "p_values = []\n",
    "for i in range(dfProjetosComCD.shape[0]):\n",
    "    u,p = mannwhitneyu(bft_after, bft_before, alternative= \"greater\")"
   ]
  }
 ],
 "metadata": {
  "interpreter": {
   "hash": "1c558a1ced02d498681aefcfe1605afb298cecb176afb7a1bf00a777def5338c"
  },
  "kernelspec": {
   "display_name": "Python 3.10.1 64-bit",
   "language": "python",
   "name": "python3"
  },
  "language_info": {
   "codemirror_mode": {
    "name": "ipython",
    "version": 3
   },
   "file_extension": ".py",
   "mimetype": "text/x-python",
   "name": "python",
   "nbconvert_exporter": "python",
   "pygments_lexer": "ipython3",
   "version": "3.10.1"
  },
  "orig_nbformat": 4
 },
 "nbformat": 4,
 "nbformat_minor": 2
}
