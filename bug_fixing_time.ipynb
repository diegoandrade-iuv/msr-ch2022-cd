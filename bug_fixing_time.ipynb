{
 "cells": [
  {
   "cell_type": "code",
   "execution_count": 1,
   "metadata": {},
   "outputs": [],
   "source": [
    "import pandas as pd\n",
    "pd.options.mode.chained_assignment = None  # default='warn'\n",
    "from pymongo import MongoClient\n",
    "from bson.objectid import ObjectId\n",
    "from scipy.stats import wilcoxon\n",
    "from cliffs_delta import cliffs_delta\n",
    "import numpy as np\n",
    "import datetime\n",
    "client = MongoClient()\n",
    "db = client.smartshark_2_2\n",
    "vcs_systems = pd.DataFrame(list(db.vcs_system.find()))\n",
    "travisBuilds = pd.DataFrame(list(db.travis_build.find()))\n",
    "tags = pd.DataFrame(list(db.tag.find()))\n",
    "issues = pd.DataFrame(list(db.issue.find()))"
   ]
  },
  {
   "cell_type": "code",
   "execution_count": 2,
   "metadata": {},
   "outputs": [],
   "source": [
    "# IC\n",
    "projetosComBuilds = travisBuilds['vcs_system_id'].unique()\n",
    "\n",
    "# Tags of project with IC\n",
    "idsVcsComBuilds = vcs_systems.query('_id.isin(@projetosComBuilds)').drop_duplicates().dropna()._id\n",
    "tagsDosProjComBuild = tags.query('vcs_system_id.isin(@idsVcsComBuilds)').drop_duplicates().dropna()\n",
    "\n",
    "#Release Tags\n",
    "tagsDeRelase = tagsDosProjComBuild[\n",
    "    tagsDosProjComBuild['name']\n",
    "    .str.contains('rc|RC|candidate|CANDIDATE|beta|BETA|alpha|ALPHA')==False].drop_duplicates().dropna()\n",
    "\n",
    "# Valid Builds of Release Tags\n",
    "commitsDeRelease = tagsDeRelase.commit_id.unique()\n",
    "buildsIntegrados = travisBuilds.query('commit_id.isin(@commitsDeRelease)')\n",
    "stateIndesejados = ['failed', 'canceled']\n",
    "BuildsValidos = buildsIntegrados.query('~state.isin(@stateIndesejados)')\n",
    "\n",
    "#Projects with valid builds for their releases\n",
    "vcsComEntrega = BuildsValidos.vcs_system_id.unique()\n",
    "\n",
    "# Aggregate builds with the same commit\n",
    "BuildsValidosPorCommit = BuildsValidos.groupby(['commit_id'], as_index=False, sort=False).max()\n",
    "\n",
    "# get the projects with > 2 valid releases (implies the adoption and the use of CD)\n",
    "vcsComCD = BuildsValidosPorCommit[['vcs_system_id','_id']].groupby(['vcs_system_id'], as_index=False).agg('count').sort_values(by=['_id'], ascending=False)\n",
    "vcsComCD = vcsComCD.query('_id > 1')\n",
    "#Projects selected"
   ]
  },
  {
   "cell_type": "code",
   "execution_count": 3,
   "metadata": {},
   "outputs": [],
   "source": [
    "#From the projects, get the data for analysis\n",
    "vcsList= []\n",
    "for index, row in vcsComCD.iterrows():\n",
    "    vcsList.append(row.vcs_system_id)\n",
    "    \n",
    "issue_system = pd.DataFrame(list(db.issue_system.find()))\n",
    "projects = pd.DataFrame(list(db.project.find()))\n",
    "listaDosProjetosComCD = [] \n",
    "issues_system_ids = []\n",
    "for vcs in vcsList:\n",
    "    # Get the project id\n",
    "    project_id = vcs_systems.query('_id == @vcs').iloc[0,2] \n",
    "\n",
    "    # Get the name of the project\n",
    "    name = projects.query('_id == @project_id').iloc[0,1]     \n",
    "\n",
    "    # Get issue system id\n",
    "    issues_system_id = issue_system.query('project_id == @project_id').iloc[0,0]\n",
    "    issues_system_ids.append(issues_system_id)   \n",
    "\n",
    "    # Get the commit of Cd adoption build\n",
    "    commit_id_DaBuilld = BuildsValidosPorCommit.query('vcs_system_id == @vcs').sort_values(by=['started_at']).iloc[0,0]\n",
    "    \n",
    "\n",
    "    # Get tag, release name and adoption date\n",
    "    id_tag_Adocao_CD = tagsDeRelase.query('commit_id == @commit_id_DaBuilld').iloc[0,0]\n",
    "    nome_da_releasa = tagsDeRelase.query('commit_id == @commit_id_DaBuilld').iloc[0,1]\n",
    "    data_de_adocao = tagsDeRelase.query('commit_id == @commit_id_DaBuilld').iloc[0,6]\n",
    "\n",
    "    listaDosProjetosComCD.append([name , vcs,project_id, issues_system_id, commit_id_DaBuilld, id_tag_Adocao_CD, nome_da_releasa, data_de_adocao  ])\n",
    "\n",
    "dfProjetosComCD = pd.DataFrame(listaDosProjetosComCD, columns=['name', 'vcs_system_id', 'project_id', 'issues_system_id', 'commit_id', 'tag_id','adoption_release', 'cd_adoption_date' ])"
   ]
  },
  {
   "cell_type": "code",
   "execution_count": 4,
   "metadata": {},
   "outputs": [],
   "source": [
    "# Get the bug fixing time\n",
    "\n",
    "issuesProjetosCD = issues.query('issue_system_id.isin(@issues_system_ids)')\n",
    "media_bugs_no_cd = []\n",
    "mediana_bugs_no_cd = []\n",
    "media_bugs_cd = []\n",
    "mediana_bugs_cd = []\n",
    "p_values = []\n",
    "\n",
    "for i in range(dfProjetosComCD.shape[0]):\n",
    "    tmp_name = dfProjetosComCD.iloc[i,0]    \n",
    "    tmp_date = dfProjetosComCD.iloc[i,7]\n",
    "    tmp_issue_sistem = dfProjetosComCD.iloc[i,3]\n",
    "    df_bugs_cd = issuesProjetosCD.query('issue_system_id == @tmp_issue_sistem & issue_type == \\'Bug\\' & resolution == \\'Fixed\\' &  status.isin([\\'Closed\\',\\'Resolved\\']) & created_at >= @tmp_date')    \n",
    "    \n",
    "    df_bugs_no_cd = issuesProjetosCD.query('issue_system_id == @tmp_issue_sistem & issue_type == \\'Bug\\' & resolution == \\'Fixed\\' &  status.isin([\\'Closed\\',\\'Resolved\\']) &  updated_at < @tmp_date')    \n",
    "    df_bugs_no_cd['delta'] = df_bugs_no_cd.updated_at - df_bugs_no_cd.created_at\n",
    "    media_bugs_no_cd.append(df_bugs_no_cd.delta.mean())\n",
    "    mediana_bugs_no_cd.append(df_bugs_no_cd.delta.median())\n",
    "    \n",
    "    \n",
    "    df_bugs_cd['delta'] = df_bugs_cd.updated_at - df_bugs_cd.created_at    \n",
    "    media_bugs_cd.append(df_bugs_cd.delta.mean())\n",
    "    mediana_bugs_cd.append(df_bugs_cd.delta.median())\n",
    "\n",
    "\n",
    "dfProjetosComCD['mean_delta_bugs_no_cd'] = media_bugs_no_cd\n",
    "dfProjetosComCD['median_delta_bugs_no_cd'] = mediana_bugs_no_cd\n",
    "dfProjetosComCD['mean_delta_bugs_cd'] = media_bugs_cd\n",
    "dfProjetosComCD['median_delta_bugs_cd'] = mediana_bugs_cd"
   ]
  },
  {
   "cell_type": "code",
   "execution_count": 5,
   "metadata": {},
   "outputs": [
    {
     "name": "stdout",
     "output_type": "stream",
     "text": [
      "Projetos tempo medio de correção de bugs maior após CD: 6\n",
      "Projetos tempo medio de correção de bugs menor após CD: 19\n",
      "Projetos com mediana do tempo de correção de bugs maior após CD: 8\n",
      "Projetos com mediana do tempo de correção de bugs maior após CD: 17\n"
     ]
    }
   ],
   "source": [
    "print('Projetos tempo medio de correção de bugs maior após CD:', dfProjetosComCD.query('mean_delta_bugs_no_cd < mean_delta_bugs_cd').count().iloc[0] )\n",
    "print('Projetos tempo medio de correção de bugs menor após CD:', dfProjetosComCD.query('mean_delta_bugs_no_cd >= mean_delta_bugs_cd').count().iloc[0] )\n",
    "print('Projetos com mediana do tempo de correção de bugs maior após CD:', dfProjetosComCD.query('median_delta_bugs_no_cd < median_delta_bugs_cd').count().iloc[0] )\n",
    "print('Projetos com mediana do tempo de correção de bugs maior após CD:', dfProjetosComCD.query('median_delta_bugs_no_cd >= median_delta_bugs_cd').count().iloc[0] )"
   ]
  },
  {
   "cell_type": "code",
   "execution_count": 6,
   "metadata": {},
   "outputs": [
    {
     "data": {
      "text/plain": [
       "(0.4368, 'medium')"
      ]
     },
     "execution_count": 6,
     "metadata": {},
     "output_type": "execute_result"
    }
   ],
   "source": [
    "cliffs_delta((dfProjetosComCD['median_delta_bugs_no_cd'] / np.timedelta64(1,'D')), (dfProjetosComCD['median_delta_bugs_cd'] / np.timedelta64(1,'D')))"
   ]
  },
  {
   "cell_type": "code",
   "execution_count": 7,
   "metadata": {},
   "outputs": [
    {
     "data": {
      "text/plain": [
       "(0.5904, 'large')"
      ]
     },
     "execution_count": 7,
     "metadata": {},
     "output_type": "execute_result"
    }
   ],
   "source": [
    "cliffs_delta((dfProjetosComCD['mean_delta_bugs_no_cd'] / np.timedelta64(1,'D')), (dfProjetosComCD['mean_delta_bugs_cd'] / np.timedelta64(1,'D')))"
   ]
  },
  {
   "cell_type": "code",
   "execution_count": 8,
   "metadata": {},
   "outputs": [
    {
     "data": {
      "text/plain": [
       "WilcoxonResult(statistic=294.0, pvalue=6.99460506439209e-05)"
      ]
     },
     "execution_count": 8,
     "metadata": {},
     "output_type": "execute_result"
    }
   ],
   "source": [
    "wilcoxon((dfProjetosComCD['mean_delta_bugs_no_cd'] / np.timedelta64(1,'D')), (dfProjetosComCD['mean_delta_bugs_cd'] / np.timedelta64(1,'D')), alternative='greater')"
   ]
  },
  {
   "cell_type": "code",
   "execution_count": 9,
   "metadata": {},
   "outputs": [
    {
     "data": {
      "text/plain": [
       "WilcoxonResult(statistic=275.0, pvalue=0.0008126795291900635)"
      ]
     },
     "execution_count": 9,
     "metadata": {},
     "output_type": "execute_result"
    }
   ],
   "source": [
    "wilcoxon((dfProjetosComCD['median_delta_bugs_no_cd'] / np.timedelta64(1,'D')), (dfProjetosComCD['median_delta_bugs_cd'] / np.timedelta64(1,'D')), alternative='greater' )"
   ]
  },
  {
   "cell_type": "code",
   "execution_count": 10,
   "metadata": {},
   "outputs": [],
   "source": [
    "dfProjetosComCD['mean_delta_bugs_no_cd_min'] = dfProjetosComCD.mean_delta_bugs_no_cd / datetime.timedelta(minutes=1)\n",
    "dfProjetosComCD['mean_delta_bugs_cd_min'] = dfProjetosComCD.mean_delta_bugs_cd / datetime.timedelta(minutes=1)\n",
    "dfProjetosComCD['median_delta_bugs_no_cd_min'] = dfProjetosComCD.median_delta_bugs_no_cd / datetime.timedelta(minutes=1)\n",
    "dfProjetosComCD['median_delta_bugs_cd_min'] = dfProjetosComCD.median_delta_bugs_cd / datetime.timedelta(minutes=1)"
   ]
  },
  {
   "cell_type": "code",
   "execution_count": 11,
   "metadata": {},
   "outputs": [],
   "source": [
    "dfProjetosComCD[['name','cd_adoption_date','mean_delta_bugs_no_cd_min','mean_delta_bugs_cd_min', 'median_delta_bugs_no_cd_min','median_delta_bugs_cd_min' ]].to_csv('tabela1.csv', index=False)"
   ]
  },
  {
   "cell_type": "markdown",
   "metadata": {},
   "source": [
    "CSV for Visualization"
   ]
  },
  {
   "cell_type": "code",
   "execution_count": 14,
   "metadata": {},
   "outputs": [],
   "source": [
    "bugsCDProjects = issuesProjetosCD.query(' issue_type == \\'Bug\\' & resolution == \\'Fixed\\' &  status.isin([\\'Closed\\',\\'Resolved\\'])')\n",
    "bugsCDProjects['post_CD'] = False \n",
    "for i in range(dfProjetosComCD.shape[0]):\n",
    "    tmp_date = dfProjetosComCD.loc[i,'cd_adoption_date']\n",
    "    tmp_issue_sistem =  dfProjetosComCD.loc[i,'issues_system_id']\n",
    "    bugsCDProjects.loc[(bugsCDProjects['issue_system_id']== tmp_issue_sistem) & (bugsCDProjects['created_at']>= tmp_date),'post_CD'] = True\n"
   ]
  },
  {
   "cell_type": "code",
   "execution_count": 15,
   "metadata": {},
   "outputs": [],
   "source": [
    "bugsCDProjects[['_id','external_id','issue_system_id', 'created_at', 'updated_at','priority', 'affects_versions',  'resolution', 'original_time_estimate','post_CD'] ].to_csv('bugs_of_CD_projects.csv', index=False, sep=';')"
   ]
  }
 ],
 "metadata": {
  "interpreter": {
   "hash": "1c558a1ced02d498681aefcfe1605afb298cecb176afb7a1bf00a777def5338c"
  },
  "kernelspec": {
   "display_name": "Python 3.10.1 64-bit",
   "language": "python",
   "name": "python3"
  },
  "language_info": {
   "codemirror_mode": {
    "name": "ipython",
    "version": 3
   },
   "file_extension": ".py",
   "mimetype": "text/x-python",
   "name": "python",
   "nbconvert_exporter": "python",
   "pygments_lexer": "ipython3",
   "version": "3.10.1"
  },
  "orig_nbformat": 4
 },
 "nbformat": 4,
 "nbformat_minor": 2
}
