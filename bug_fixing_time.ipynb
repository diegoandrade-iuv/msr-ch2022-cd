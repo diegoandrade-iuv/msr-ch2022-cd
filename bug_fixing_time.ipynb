{
 "cells": [
  {
   "cell_type": "code",
   "execution_count": 1,
   "metadata": {},
   "outputs": [],
   "source": [
    "import pandas as pd\n",
    "from pymongo import MongoClient\n",
    "from bson.objectid import ObjectId\n",
    "from datetime import timedelta\n",
    "from scipy.stats import wilcoxon\n",
    "import numpy as np\n",
    "import datetime\n",
    "import re\n",
    "client = MongoClient()\n",
    "db = client.smartshark_2_2\n",
    "vcs_systems = pd.DataFrame(list(db.vcs_system.find()))\n",
    "travisBuilds = pd.DataFrame(list(db.travis_build.find()))\n",
    "tags = pd.DataFrame(list(db.tag.find()))\n",
    "issues = pd.DataFrame(list(db.issue.find()))"
   ]
  },
  {
   "cell_type": "code",
   "execution_count": 2,
   "metadata": {},
   "outputs": [],
   "source": [
    "# IC\n",
    "projetosComBuilds = travisBuilds['vcs_system_id'].unique()\n",
    "\n",
    "# Tags of project with IC\n",
    "idsVcsComBuilds = vcs_systems.query('_id.isin(@projetosComBuilds)').drop_duplicates().dropna()._id\n",
    "tagsDosProjComBuild = tags.query('vcs_system_id.isin(@idsVcsComBuilds)').drop_duplicates().dropna()\n",
    "\n",
    "#Release Tags\n",
    "tagsDeRelase = tagsDosProjComBuild[\n",
    "    tagsDosProjComBuild['name']\n",
    "    .str.contains('rc|RC|candidate|CANDIDATE|beta|BETA|alpha|ALPHA')==False].drop_duplicates().dropna()\n",
    "\n",
    "# Valid Builds of Release Tags\n",
    "commitsDeRelease = tagsDeRelase.commit_id.unique()\n",
    "buildsIntegrados = travisBuilds.query('commit_id.isin(@commitsDeRelease)')\n",
    "stateIndesejados = ['failed', 'canceled']\n",
    "BuildsValidos = buildsIntegrados.query('~state.isin(@stateIndesejados)')\n",
    "\n",
    "#Projects with valid builds for their releases\n",
    "vcsComEntrega = BuildsValidos.vcs_system_id.unique()\n",
    "\n",
    "# Aggregate builds with the same commit\n",
    "BuildsValidosPorCommit = BuildsValidos[['_id', 'vcs_system_id', 'commit_id', 'number', 'state', 'started_at', 'finished_at']].groupby(['commit_id'], as_index=False, sort=False).max()\n",
    "\n",
    "# get the projects with > 2 valid builds for an unique commit\n",
    "vcsComCD = BuildsValidosPorCommit[['vcs_system_id','_id']].groupby(['vcs_system_id'], as_index=False).agg('count').sort_values(by=['_id'], ascending=False)\n",
    "vcsComCD = vcsComCD.query('_id > 2')"
   ]
  },
  {
   "cell_type": "code",
   "execution_count": 3,
   "metadata": {},
   "outputs": [],
   "source": [
    "#Select the projects with CD\n",
    "vcsList= []\n",
    "for index, row in vcsComCD.iterrows():\n",
    "    vcsList.append(row.vcs_system_id)\n",
    "    \n",
    "issue_system = pd.DataFrame(list(db.issue_system.find()))\n",
    "projects = pd.DataFrame(list(db.project.find()))\n",
    "listaDosProjetosComCD = [] \n",
    "issues_system_ids = []\n",
    "for vcs in vcsList:\n",
    "    # Buscar informações sobre o projeto\n",
    "    project_id = vcs_systems.query('_id == @vcs').iloc[0,2] \n",
    "\n",
    "    #nome do projeto\n",
    "    name = projects.query('_id == @project_id').iloc[0,1]     \n",
    "\n",
    "    # Informações sobre o issue system\n",
    "    issues_system_id = issue_system.query('project_id == @project_id').iloc[0,0]\n",
    "    issues_system_ids.append(issues_system_id)   \n",
    "\n",
    "    # Pegar o commit da build considerada como a build de adoção (desconsiderando o primeiro)\n",
    "    commit_id_DaBuilld = BuildsValidosPorCommit.query('vcs_system_id == @vcs').sort_values(by=['started_at']).iloc[1,0]\n",
    "    \n",
    "\n",
    "    # Pegar a release com o commit de build de adoção\n",
    "    id_tag_Adocao_CD = tagsDeRelase.query('commit_id == @commit_id_DaBuilld').iloc[0,0]\n",
    "    nome_da_releasa = tagsDeRelase.query('commit_id == @commit_id_DaBuilld').iloc[0,1]\n",
    "    data_de_adocao = tagsDeRelase.query('commit_id == @commit_id_DaBuilld').iloc[0,6]\n",
    "\n",
    "    listaDosProjetosComCD.append([name , vcs,project_id, issues_system_id, commit_id_DaBuilld, id_tag_Adocao_CD, nome_da_releasa, data_de_adocao  ])\n",
    "\n",
    "dfProjetosComCD = pd.DataFrame(listaDosProjetosComCD, columns=['name', 'vcs_system_id', 'project_id', 'issues_system_id', 'commit_id', 'tag_id','adoption_release', 'cd_adoption_date' ])"
   ]
  },
  {
   "cell_type": "code",
   "execution_count": 4,
   "metadata": {},
   "outputs": [
    {
     "name": "stderr",
     "output_type": "stream",
     "text": [
      "C:\\Users\\diega\\AppData\\Local\\Temp/ipykernel_21140/1288669200.py:11: SettingWithCopyWarning: \n",
      "A value is trying to be set on a copy of a slice from a DataFrame.\n",
      "Try using .loc[row_indexer,col_indexer] = value instead\n",
      "\n",
      "See the caveats in the documentation: https://pandas.pydata.org/pandas-docs/stable/user_guide/indexing.html#returning-a-view-versus-a-copy\n",
      "  df_bugs_no_cd['delta'] = df_bugs_no_cd.updated_at - df_bugs_no_cd.created_at\n",
      "C:\\Users\\diega\\AppData\\Local\\Temp/ipykernel_21140/1288669200.py:16: SettingWithCopyWarning: \n",
      "A value is trying to be set on a copy of a slice from a DataFrame.\n",
      "Try using .loc[row_indexer,col_indexer] = value instead\n",
      "\n",
      "See the caveats in the documentation: https://pandas.pydata.org/pandas-docs/stable/user_guide/indexing.html#returning-a-view-versus-a-copy\n",
      "  df_bugs_cd['delta'] = df_bugs_cd.updated_at - df_bugs_cd.created_at\n",
      "C:\\Users\\diega\\AppData\\Local\\Temp/ipykernel_21140/1288669200.py:11: SettingWithCopyWarning: \n",
      "A value is trying to be set on a copy of a slice from a DataFrame.\n",
      "Try using .loc[row_indexer,col_indexer] = value instead\n",
      "\n",
      "See the caveats in the documentation: https://pandas.pydata.org/pandas-docs/stable/user_guide/indexing.html#returning-a-view-versus-a-copy\n",
      "  df_bugs_no_cd['delta'] = df_bugs_no_cd.updated_at - df_bugs_no_cd.created_at\n",
      "C:\\Users\\diega\\AppData\\Local\\Temp/ipykernel_21140/1288669200.py:16: SettingWithCopyWarning: \n",
      "A value is trying to be set on a copy of a slice from a DataFrame.\n",
      "Try using .loc[row_indexer,col_indexer] = value instead\n",
      "\n",
      "See the caveats in the documentation: https://pandas.pydata.org/pandas-docs/stable/user_guide/indexing.html#returning-a-view-versus-a-copy\n",
      "  df_bugs_cd['delta'] = df_bugs_cd.updated_at - df_bugs_cd.created_at\n",
      "C:\\Users\\diega\\AppData\\Local\\Temp/ipykernel_21140/1288669200.py:11: SettingWithCopyWarning: \n",
      "A value is trying to be set on a copy of a slice from a DataFrame.\n",
      "Try using .loc[row_indexer,col_indexer] = value instead\n",
      "\n",
      "See the caveats in the documentation: https://pandas.pydata.org/pandas-docs/stable/user_guide/indexing.html#returning-a-view-versus-a-copy\n",
      "  df_bugs_no_cd['delta'] = df_bugs_no_cd.updated_at - df_bugs_no_cd.created_at\n",
      "C:\\Users\\diega\\AppData\\Local\\Temp/ipykernel_21140/1288669200.py:16: SettingWithCopyWarning: \n",
      "A value is trying to be set on a copy of a slice from a DataFrame.\n",
      "Try using .loc[row_indexer,col_indexer] = value instead\n",
      "\n",
      "See the caveats in the documentation: https://pandas.pydata.org/pandas-docs/stable/user_guide/indexing.html#returning-a-view-versus-a-copy\n",
      "  df_bugs_cd['delta'] = df_bugs_cd.updated_at - df_bugs_cd.created_at\n",
      "C:\\Users\\diega\\AppData\\Local\\Temp/ipykernel_21140/1288669200.py:11: SettingWithCopyWarning: \n",
      "A value is trying to be set on a copy of a slice from a DataFrame.\n",
      "Try using .loc[row_indexer,col_indexer] = value instead\n",
      "\n",
      "See the caveats in the documentation: https://pandas.pydata.org/pandas-docs/stable/user_guide/indexing.html#returning-a-view-versus-a-copy\n",
      "  df_bugs_no_cd['delta'] = df_bugs_no_cd.updated_at - df_bugs_no_cd.created_at\n",
      "C:\\Users\\diega\\AppData\\Local\\Temp/ipykernel_21140/1288669200.py:16: SettingWithCopyWarning: \n",
      "A value is trying to be set on a copy of a slice from a DataFrame.\n",
      "Try using .loc[row_indexer,col_indexer] = value instead\n",
      "\n",
      "See the caveats in the documentation: https://pandas.pydata.org/pandas-docs/stable/user_guide/indexing.html#returning-a-view-versus-a-copy\n",
      "  df_bugs_cd['delta'] = df_bugs_cd.updated_at - df_bugs_cd.created_at\n",
      "C:\\Users\\diega\\AppData\\Local\\Temp/ipykernel_21140/1288669200.py:11: SettingWithCopyWarning: \n",
      "A value is trying to be set on a copy of a slice from a DataFrame.\n",
      "Try using .loc[row_indexer,col_indexer] = value instead\n",
      "\n",
      "See the caveats in the documentation: https://pandas.pydata.org/pandas-docs/stable/user_guide/indexing.html#returning-a-view-versus-a-copy\n",
      "  df_bugs_no_cd['delta'] = df_bugs_no_cd.updated_at - df_bugs_no_cd.created_at\n",
      "C:\\Users\\diega\\AppData\\Local\\Temp/ipykernel_21140/1288669200.py:16: SettingWithCopyWarning: \n",
      "A value is trying to be set on a copy of a slice from a DataFrame.\n",
      "Try using .loc[row_indexer,col_indexer] = value instead\n",
      "\n",
      "See the caveats in the documentation: https://pandas.pydata.org/pandas-docs/stable/user_guide/indexing.html#returning-a-view-versus-a-copy\n",
      "  df_bugs_cd['delta'] = df_bugs_cd.updated_at - df_bugs_cd.created_at\n",
      "C:\\Users\\diega\\AppData\\Local\\Temp/ipykernel_21140/1288669200.py:11: SettingWithCopyWarning: \n",
      "A value is trying to be set on a copy of a slice from a DataFrame.\n",
      "Try using .loc[row_indexer,col_indexer] = value instead\n",
      "\n",
      "See the caveats in the documentation: https://pandas.pydata.org/pandas-docs/stable/user_guide/indexing.html#returning-a-view-versus-a-copy\n",
      "  df_bugs_no_cd['delta'] = df_bugs_no_cd.updated_at - df_bugs_no_cd.created_at\n",
      "C:\\Users\\diega\\AppData\\Local\\Temp/ipykernel_21140/1288669200.py:16: SettingWithCopyWarning: \n",
      "A value is trying to be set on a copy of a slice from a DataFrame.\n",
      "Try using .loc[row_indexer,col_indexer] = value instead\n",
      "\n",
      "See the caveats in the documentation: https://pandas.pydata.org/pandas-docs/stable/user_guide/indexing.html#returning-a-view-versus-a-copy\n",
      "  df_bugs_cd['delta'] = df_bugs_cd.updated_at - df_bugs_cd.created_at\n",
      "C:\\Users\\diega\\AppData\\Local\\Temp/ipykernel_21140/1288669200.py:11: SettingWithCopyWarning: \n",
      "A value is trying to be set on a copy of a slice from a DataFrame.\n",
      "Try using .loc[row_indexer,col_indexer] = value instead\n",
      "\n",
      "See the caveats in the documentation: https://pandas.pydata.org/pandas-docs/stable/user_guide/indexing.html#returning-a-view-versus-a-copy\n",
      "  df_bugs_no_cd['delta'] = df_bugs_no_cd.updated_at - df_bugs_no_cd.created_at\n",
      "C:\\Users\\diega\\AppData\\Local\\Temp/ipykernel_21140/1288669200.py:11: SettingWithCopyWarning: \n",
      "A value is trying to be set on a copy of a slice from a DataFrame.\n",
      "Try using .loc[row_indexer,col_indexer] = value instead\n",
      "\n",
      "See the caveats in the documentation: https://pandas.pydata.org/pandas-docs/stable/user_guide/indexing.html#returning-a-view-versus-a-copy\n",
      "  df_bugs_no_cd['delta'] = df_bugs_no_cd.updated_at - df_bugs_no_cd.created_at\n",
      "C:\\Users\\diega\\AppData\\Local\\Temp/ipykernel_21140/1288669200.py:16: SettingWithCopyWarning: \n",
      "A value is trying to be set on a copy of a slice from a DataFrame.\n",
      "Try using .loc[row_indexer,col_indexer] = value instead\n",
      "\n",
      "See the caveats in the documentation: https://pandas.pydata.org/pandas-docs/stable/user_guide/indexing.html#returning-a-view-versus-a-copy\n",
      "  df_bugs_cd['delta'] = df_bugs_cd.updated_at - df_bugs_cd.created_at\n",
      "C:\\Users\\diega\\AppData\\Local\\Temp/ipykernel_21140/1288669200.py:11: SettingWithCopyWarning: \n",
      "A value is trying to be set on a copy of a slice from a DataFrame.\n",
      "Try using .loc[row_indexer,col_indexer] = value instead\n",
      "\n",
      "See the caveats in the documentation: https://pandas.pydata.org/pandas-docs/stable/user_guide/indexing.html#returning-a-view-versus-a-copy\n",
      "  df_bugs_no_cd['delta'] = df_bugs_no_cd.updated_at - df_bugs_no_cd.created_at\n",
      "C:\\Users\\diega\\AppData\\Local\\Temp/ipykernel_21140/1288669200.py:16: SettingWithCopyWarning: \n",
      "A value is trying to be set on a copy of a slice from a DataFrame.\n",
      "Try using .loc[row_indexer,col_indexer] = value instead\n",
      "\n",
      "See the caveats in the documentation: https://pandas.pydata.org/pandas-docs/stable/user_guide/indexing.html#returning-a-view-versus-a-copy\n",
      "  df_bugs_cd['delta'] = df_bugs_cd.updated_at - df_bugs_cd.created_at\n",
      "C:\\Users\\diega\\AppData\\Local\\Temp/ipykernel_21140/1288669200.py:11: SettingWithCopyWarning: \n",
      "A value is trying to be set on a copy of a slice from a DataFrame.\n",
      "Try using .loc[row_indexer,col_indexer] = value instead\n",
      "\n",
      "See the caveats in the documentation: https://pandas.pydata.org/pandas-docs/stable/user_guide/indexing.html#returning-a-view-versus-a-copy\n",
      "  df_bugs_no_cd['delta'] = df_bugs_no_cd.updated_at - df_bugs_no_cd.created_at\n",
      "C:\\Users\\diega\\AppData\\Local\\Temp/ipykernel_21140/1288669200.py:16: SettingWithCopyWarning: \n",
      "A value is trying to be set on a copy of a slice from a DataFrame.\n",
      "Try using .loc[row_indexer,col_indexer] = value instead\n",
      "\n",
      "See the caveats in the documentation: https://pandas.pydata.org/pandas-docs/stable/user_guide/indexing.html#returning-a-view-versus-a-copy\n",
      "  df_bugs_cd['delta'] = df_bugs_cd.updated_at - df_bugs_cd.created_at\n",
      "C:\\Users\\diega\\AppData\\Local\\Temp/ipykernel_21140/1288669200.py:11: SettingWithCopyWarning: \n",
      "A value is trying to be set on a copy of a slice from a DataFrame.\n",
      "Try using .loc[row_indexer,col_indexer] = value instead\n",
      "\n",
      "See the caveats in the documentation: https://pandas.pydata.org/pandas-docs/stable/user_guide/indexing.html#returning-a-view-versus-a-copy\n",
      "  df_bugs_no_cd['delta'] = df_bugs_no_cd.updated_at - df_bugs_no_cd.created_at\n",
      "C:\\Users\\diega\\AppData\\Local\\Temp/ipykernel_21140/1288669200.py:16: SettingWithCopyWarning: \n",
      "A value is trying to be set on a copy of a slice from a DataFrame.\n",
      "Try using .loc[row_indexer,col_indexer] = value instead\n",
      "\n",
      "See the caveats in the documentation: https://pandas.pydata.org/pandas-docs/stable/user_guide/indexing.html#returning-a-view-versus-a-copy\n",
      "  df_bugs_cd['delta'] = df_bugs_cd.updated_at - df_bugs_cd.created_at\n",
      "C:\\Users\\diega\\AppData\\Local\\Temp/ipykernel_21140/1288669200.py:11: SettingWithCopyWarning: \n",
      "A value is trying to be set on a copy of a slice from a DataFrame.\n",
      "Try using .loc[row_indexer,col_indexer] = value instead\n",
      "\n",
      "See the caveats in the documentation: https://pandas.pydata.org/pandas-docs/stable/user_guide/indexing.html#returning-a-view-versus-a-copy\n",
      "  df_bugs_no_cd['delta'] = df_bugs_no_cd.updated_at - df_bugs_no_cd.created_at\n",
      "C:\\Users\\diega\\AppData\\Local\\Temp/ipykernel_21140/1288669200.py:16: SettingWithCopyWarning: \n",
      "A value is trying to be set on a copy of a slice from a DataFrame.\n",
      "Try using .loc[row_indexer,col_indexer] = value instead\n",
      "\n",
      "See the caveats in the documentation: https://pandas.pydata.org/pandas-docs/stable/user_guide/indexing.html#returning-a-view-versus-a-copy\n",
      "  df_bugs_cd['delta'] = df_bugs_cd.updated_at - df_bugs_cd.created_at\n",
      "C:\\Users\\diega\\AppData\\Local\\Temp/ipykernel_21140/1288669200.py:11: SettingWithCopyWarning: \n",
      "A value is trying to be set on a copy of a slice from a DataFrame.\n",
      "Try using .loc[row_indexer,col_indexer] = value instead\n",
      "\n",
      "See the caveats in the documentation: https://pandas.pydata.org/pandas-docs/stable/user_guide/indexing.html#returning-a-view-versus-a-copy\n",
      "  df_bugs_no_cd['delta'] = df_bugs_no_cd.updated_at - df_bugs_no_cd.created_at\n",
      "C:\\Users\\diega\\AppData\\Local\\Temp/ipykernel_21140/1288669200.py:16: SettingWithCopyWarning: \n",
      "A value is trying to be set on a copy of a slice from a DataFrame.\n",
      "Try using .loc[row_indexer,col_indexer] = value instead\n",
      "\n",
      "See the caveats in the documentation: https://pandas.pydata.org/pandas-docs/stable/user_guide/indexing.html#returning-a-view-versus-a-copy\n",
      "  df_bugs_cd['delta'] = df_bugs_cd.updated_at - df_bugs_cd.created_at\n",
      "C:\\Users\\diega\\AppData\\Local\\Temp/ipykernel_21140/1288669200.py:11: SettingWithCopyWarning: \n",
      "A value is trying to be set on a copy of a slice from a DataFrame.\n",
      "Try using .loc[row_indexer,col_indexer] = value instead\n",
      "\n",
      "See the caveats in the documentation: https://pandas.pydata.org/pandas-docs/stable/user_guide/indexing.html#returning-a-view-versus-a-copy\n",
      "  df_bugs_no_cd['delta'] = df_bugs_no_cd.updated_at - df_bugs_no_cd.created_at\n",
      "C:\\Users\\diega\\AppData\\Local\\Temp/ipykernel_21140/1288669200.py:16: SettingWithCopyWarning: \n",
      "A value is trying to be set on a copy of a slice from a DataFrame.\n",
      "Try using .loc[row_indexer,col_indexer] = value instead\n",
      "\n",
      "See the caveats in the documentation: https://pandas.pydata.org/pandas-docs/stable/user_guide/indexing.html#returning-a-view-versus-a-copy\n",
      "  df_bugs_cd['delta'] = df_bugs_cd.updated_at - df_bugs_cd.created_at\n",
      "C:\\Users\\diega\\AppData\\Local\\Temp/ipykernel_21140/1288669200.py:11: SettingWithCopyWarning: \n",
      "A value is trying to be set on a copy of a slice from a DataFrame.\n",
      "Try using .loc[row_indexer,col_indexer] = value instead\n",
      "\n",
      "See the caveats in the documentation: https://pandas.pydata.org/pandas-docs/stable/user_guide/indexing.html#returning-a-view-versus-a-copy\n",
      "  df_bugs_no_cd['delta'] = df_bugs_no_cd.updated_at - df_bugs_no_cd.created_at\n",
      "C:\\Users\\diega\\AppData\\Local\\Temp/ipykernel_21140/1288669200.py:16: SettingWithCopyWarning: \n",
      "A value is trying to be set on a copy of a slice from a DataFrame.\n",
      "Try using .loc[row_indexer,col_indexer] = value instead\n",
      "\n",
      "See the caveats in the documentation: https://pandas.pydata.org/pandas-docs/stable/user_guide/indexing.html#returning-a-view-versus-a-copy\n",
      "  df_bugs_cd['delta'] = df_bugs_cd.updated_at - df_bugs_cd.created_at\n",
      "C:\\Users\\diega\\AppData\\Local\\Temp/ipykernel_21140/1288669200.py:11: SettingWithCopyWarning: \n",
      "A value is trying to be set on a copy of a slice from a DataFrame.\n",
      "Try using .loc[row_indexer,col_indexer] = value instead\n",
      "\n",
      "See the caveats in the documentation: https://pandas.pydata.org/pandas-docs/stable/user_guide/indexing.html#returning-a-view-versus-a-copy\n",
      "  df_bugs_no_cd['delta'] = df_bugs_no_cd.updated_at - df_bugs_no_cd.created_at\n",
      "C:\\Users\\diega\\AppData\\Local\\Temp/ipykernel_21140/1288669200.py:16: SettingWithCopyWarning: \n",
      "A value is trying to be set on a copy of a slice from a DataFrame.\n",
      "Try using .loc[row_indexer,col_indexer] = value instead\n",
      "\n",
      "See the caveats in the documentation: https://pandas.pydata.org/pandas-docs/stable/user_guide/indexing.html#returning-a-view-versus-a-copy\n",
      "  df_bugs_cd['delta'] = df_bugs_cd.updated_at - df_bugs_cd.created_at\n",
      "C:\\Users\\diega\\AppData\\Local\\Temp/ipykernel_21140/1288669200.py:11: SettingWithCopyWarning: \n",
      "A value is trying to be set on a copy of a slice from a DataFrame.\n",
      "Try using .loc[row_indexer,col_indexer] = value instead\n",
      "\n",
      "See the caveats in the documentation: https://pandas.pydata.org/pandas-docs/stable/user_guide/indexing.html#returning-a-view-versus-a-copy\n",
      "  df_bugs_no_cd['delta'] = df_bugs_no_cd.updated_at - df_bugs_no_cd.created_at\n",
      "C:\\Users\\diega\\AppData\\Local\\Temp/ipykernel_21140/1288669200.py:16: SettingWithCopyWarning: \n",
      "A value is trying to be set on a copy of a slice from a DataFrame.\n",
      "Try using .loc[row_indexer,col_indexer] = value instead\n",
      "\n",
      "See the caveats in the documentation: https://pandas.pydata.org/pandas-docs/stable/user_guide/indexing.html#returning-a-view-versus-a-copy\n",
      "  df_bugs_cd['delta'] = df_bugs_cd.updated_at - df_bugs_cd.created_at\n",
      "C:\\Users\\diega\\AppData\\Local\\Temp/ipykernel_21140/1288669200.py:11: SettingWithCopyWarning: \n",
      "A value is trying to be set on a copy of a slice from a DataFrame.\n",
      "Try using .loc[row_indexer,col_indexer] = value instead\n",
      "\n",
      "See the caveats in the documentation: https://pandas.pydata.org/pandas-docs/stable/user_guide/indexing.html#returning-a-view-versus-a-copy\n",
      "  df_bugs_no_cd['delta'] = df_bugs_no_cd.updated_at - df_bugs_no_cd.created_at\n",
      "C:\\Users\\diega\\AppData\\Local\\Temp/ipykernel_21140/1288669200.py:16: SettingWithCopyWarning: \n",
      "A value is trying to be set on a copy of a slice from a DataFrame.\n",
      "Try using .loc[row_indexer,col_indexer] = value instead\n",
      "\n",
      "See the caveats in the documentation: https://pandas.pydata.org/pandas-docs/stable/user_guide/indexing.html#returning-a-view-versus-a-copy\n",
      "  df_bugs_cd['delta'] = df_bugs_cd.updated_at - df_bugs_cd.created_at\n",
      "C:\\Users\\diega\\AppData\\Local\\Temp/ipykernel_21140/1288669200.py:11: SettingWithCopyWarning: \n",
      "A value is trying to be set on a copy of a slice from a DataFrame.\n",
      "Try using .loc[row_indexer,col_indexer] = value instead\n",
      "\n",
      "See the caveats in the documentation: https://pandas.pydata.org/pandas-docs/stable/user_guide/indexing.html#returning-a-view-versus-a-copy\n",
      "  df_bugs_no_cd['delta'] = df_bugs_no_cd.updated_at - df_bugs_no_cd.created_at\n",
      "C:\\Users\\diega\\AppData\\Local\\Temp/ipykernel_21140/1288669200.py:16: SettingWithCopyWarning: \n",
      "A value is trying to be set on a copy of a slice from a DataFrame.\n",
      "Try using .loc[row_indexer,col_indexer] = value instead\n",
      "\n",
      "See the caveats in the documentation: https://pandas.pydata.org/pandas-docs/stable/user_guide/indexing.html#returning-a-view-versus-a-copy\n",
      "  df_bugs_cd['delta'] = df_bugs_cd.updated_at - df_bugs_cd.created_at\n",
      "C:\\Users\\diega\\AppData\\Local\\Temp/ipykernel_21140/1288669200.py:11: SettingWithCopyWarning: \n",
      "A value is trying to be set on a copy of a slice from a DataFrame.\n",
      "Try using .loc[row_indexer,col_indexer] = value instead\n",
      "\n",
      "See the caveats in the documentation: https://pandas.pydata.org/pandas-docs/stable/user_guide/indexing.html#returning-a-view-versus-a-copy\n",
      "  df_bugs_no_cd['delta'] = df_bugs_no_cd.updated_at - df_bugs_no_cd.created_at\n",
      "C:\\Users\\diega\\AppData\\Local\\Temp/ipykernel_21140/1288669200.py:16: SettingWithCopyWarning: \n",
      "A value is trying to be set on a copy of a slice from a DataFrame.\n",
      "Try using .loc[row_indexer,col_indexer] = value instead\n",
      "\n",
      "See the caveats in the documentation: https://pandas.pydata.org/pandas-docs/stable/user_guide/indexing.html#returning-a-view-versus-a-copy\n",
      "  df_bugs_cd['delta'] = df_bugs_cd.updated_at - df_bugs_cd.created_at\n",
      "C:\\Users\\diega\\AppData\\Local\\Temp/ipykernel_21140/1288669200.py:11: SettingWithCopyWarning: \n",
      "A value is trying to be set on a copy of a slice from a DataFrame.\n",
      "Try using .loc[row_indexer,col_indexer] = value instead\n",
      "\n",
      "See the caveats in the documentation: https://pandas.pydata.org/pandas-docs/stable/user_guide/indexing.html#returning-a-view-versus-a-copy\n",
      "  df_bugs_no_cd['delta'] = df_bugs_no_cd.updated_at - df_bugs_no_cd.created_at\n",
      "C:\\Users\\diega\\AppData\\Local\\Temp/ipykernel_21140/1288669200.py:16: SettingWithCopyWarning: \n",
      "A value is trying to be set on a copy of a slice from a DataFrame.\n",
      "Try using .loc[row_indexer,col_indexer] = value instead\n",
      "\n",
      "See the caveats in the documentation: https://pandas.pydata.org/pandas-docs/stable/user_guide/indexing.html#returning-a-view-versus-a-copy\n",
      "  df_bugs_cd['delta'] = df_bugs_cd.updated_at - df_bugs_cd.created_at\n"
     ]
    }
   ],
   "source": [
    "issuesProjetosCD = issues.query('issue_system_id.isin(@issues_system_ids)')\n",
    "media_bugs_no_cd = []\n",
    "mediana_bugs_no_cd = []\n",
    "media_bugs_cd = []\n",
    "mediana_bugs_cd = []\n",
    "for i in range(dfProjetosComCD.shape[0]):\n",
    "    tmp_name = dfProjetosComCD.iloc[i,0]    \n",
    "    tmp_date = dfProjetosComCD.iloc[i,7]\n",
    "    tmp_issue_sistem = dfProjetosComCD.iloc[i,3]\n",
    "    df_bugs_no_cd = issuesProjetosCD.query('issue_system_id == @tmp_issue_sistem & issue_type == \\'Bug\\' & status == \\'Closed\\' & updated_at < @tmp_date')\n",
    "    df_bugs_no_cd['delta'] = df_bugs_no_cd.updated_at - df_bugs_no_cd.created_at\n",
    "    media_bugs_no_cd.append(df_bugs_no_cd.delta.mean())\n",
    "    mediana_bugs_no_cd.append(df_bugs_no_cd.delta.median())\n",
    "\n",
    "    df_bugs_cd = issuesProjetosCD.query('issue_system_id == @tmp_issue_sistem & issue_type == \\'Bug\\' &  status == \\'Closed\\' & created_at >= @tmp_date')\n",
    "    df_bugs_cd['delta'] = df_bugs_cd.updated_at - df_bugs_cd.created_at\n",
    "    media_bugs_cd.append(df_bugs_cd.delta.mean())\n",
    "    mediana_bugs_cd.append(df_bugs_cd.delta.median())\n",
    "\n",
    "dfProjetosComCD['mean_delta_bugs_no_cd'] = media_bugs_no_cd\n",
    "dfProjetosComCD['median_delta_bugs_no_cd'] = mediana_bugs_no_cd\n",
    "dfProjetosComCD['mean_delta_bugs_cd'] = media_bugs_cd\n",
    "dfProjetosComCD['median_delta_bugs_cd'] = mediana_bugs_cd"
   ]
  },
  {
   "cell_type": "code",
   "execution_count": 5,
   "metadata": {},
   "outputs": [
    {
     "name": "stdout",
     "output_type": "stream",
     "text": [
      "Projetos tempo medio de correção de bugs maior após CD: 1\n",
      "Projetos tempo medio de correção de bugs menor após CD: 19\n",
      "Projetos com mediana do tempo de correção de bugs maior após CD: 4\n",
      "Projetos com mediana do tempo de correção de bugs maior após CD: 16\n"
     ]
    }
   ],
   "source": [
    "print('Projetos tempo medio de correção de bugs maior após CD:', dfProjetosComCD.query('mean_delta_bugs_no_cd < mean_delta_bugs_cd').count().iloc[0] )\n",
    "print('Projetos tempo medio de correção de bugs menor após CD:', dfProjetosComCD.query('mean_delta_bugs_no_cd >= mean_delta_bugs_cd').count().iloc[0] )\n",
    "print('Projetos com mediana do tempo de correção de bugs maior após CD:', dfProjetosComCD.query('median_delta_bugs_no_cd < median_delta_bugs_cd').count().iloc[0] )\n",
    "print('Projetos com mediana do tempo de correção de bugs maior após CD:', dfProjetosComCD.query('median_delta_bugs_no_cd >= median_delta_bugs_cd').count().iloc[0] )"
   ]
  },
  {
   "cell_type": "code",
   "execution_count": 6,
   "metadata": {},
   "outputs": [],
   "source": [
    "tmpdf = dfProjetosComCD.dropna()"
   ]
  },
  {
   "cell_type": "code",
   "execution_count": 7,
   "metadata": {},
   "outputs": [
    {
     "data": {
      "text/plain": [
       "WilcoxonResult(statistic=7.0, pvalue=3.62396240234375e-05)"
      ]
     },
     "execution_count": 7,
     "metadata": {},
     "output_type": "execute_result"
    }
   ],
   "source": [
    "wilcoxon((tmpdf['mean_delta_bugs_no_cd'] / np.timedelta64(1,'D')), (tmpdf['mean_delta_bugs_cd'] / np.timedelta64(1,'D')))"
   ]
  },
  {
   "cell_type": "code",
   "execution_count": 8,
   "metadata": {},
   "outputs": [
    {
     "data": {
      "text/plain": [
       "WilcoxonResult(statistic=203.0, pvalue=1.811981201171875e-05)"
      ]
     },
     "execution_count": 8,
     "metadata": {},
     "output_type": "execute_result"
    }
   ],
   "source": [
    "wilcoxon((tmpdf['mean_delta_bugs_no_cd'] / np.timedelta64(1,'D')), (tmpdf['mean_delta_bugs_cd'] / np.timedelta64(1,'D')), alternative='greater')"
   ]
  },
  {
   "cell_type": "code",
   "execution_count": 9,
   "metadata": {},
   "outputs": [
    {
     "data": {
      "text/plain": [
       "WilcoxonResult(statistic=21.0, pvalue=0.000850677490234375)"
      ]
     },
     "execution_count": 9,
     "metadata": {},
     "output_type": "execute_result"
    }
   ],
   "source": [
    "wilcoxon((tmpdf['median_delta_bugs_no_cd'] / np.timedelta64(1,'D')), (tmpdf['median_delta_bugs_cd'] / np.timedelta64(1,'D')))"
   ]
  },
  {
   "cell_type": "code",
   "execution_count": 10,
   "metadata": {},
   "outputs": [
    {
     "data": {
      "text/plain": [
       "WilcoxonResult(statistic=189.0, pvalue=0.0004253387451171875)"
      ]
     },
     "execution_count": 10,
     "metadata": {},
     "output_type": "execute_result"
    }
   ],
   "source": [
    "wilcoxon((tmpdf['median_delta_bugs_no_cd'] / np.timedelta64(1,'D')), (tmpdf['median_delta_bugs_cd'] / np.timedelta64(1,'D')), alternative='greater' )"
   ]
  },
  {
   "cell_type": "code",
   "execution_count": 12,
   "metadata": {},
   "outputs": [
    {
     "data": {
      "text/plain": [
       "name                                             nifi\n",
       "vcs_system_id                5bd0268235e3ea2b7bbfdbae\n",
       "project_id                   5bd022e30da3ef1a10738359\n",
       "issues_system_id             5bdafdb2f16c872096848fba\n",
       "commit_id                    5bd026e5bad86c1de7dd18ef\n",
       "tag_id                       5bd026e5bad86c1de7dd18f1\n",
       "adoption_release                           nifi-1.0.0\n",
       "cd_adoption_date                  2016-08-31 05:45:12\n",
       "mean_delta_bugs_no_cd      21 days 11:16:11.030115384\n",
       "median_delta_bugs_no_cd        6 days 19:06:34.638500\n",
       "mean_delta_bugs_cd         17 days 15:02:04.997882353\n",
       "median_delta_bugs_cd           5 days 14:33:31.927000\n",
       "Name: 0, dtype: object"
      ]
     },
     "execution_count": 12,
     "metadata": {},
     "output_type": "execute_result"
    }
   ],
   "source": [
    "dfProjetosComCD.iloc[0]"
   ]
  }
 ],
 "metadata": {
  "interpreter": {
   "hash": "1c558a1ced02d498681aefcfe1605afb298cecb176afb7a1bf00a777def5338c"
  },
  "kernelspec": {
   "display_name": "Python 3.10.1 64-bit",
   "language": "python",
   "name": "python3"
  },
  "language_info": {
   "codemirror_mode": {
    "name": "ipython",
    "version": 3
   },
   "file_extension": ".py",
   "mimetype": "text/x-python",
   "name": "python",
   "nbconvert_exporter": "python",
   "pygments_lexer": "ipython3",
   "version": "3.10.1"
  },
  "orig_nbformat": 4
 },
 "nbformat": 4,
 "nbformat_minor": 2
}
