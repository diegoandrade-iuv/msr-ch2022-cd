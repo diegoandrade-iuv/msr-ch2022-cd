{
 "cells": [
  {
   "cell_type": "markdown",
   "metadata": {},
   "source": [
    "Libs imports and Colletions search on MongoDB"
   ]
  },
  {
   "cell_type": "code",
   "execution_count": 13,
   "metadata": {},
   "outputs": [],
   "source": [
    "# imports\n",
    "import pandas as pd\n",
    "pd.options.mode.chained_assignment = None  # default='warn'\n",
    "from pymongo import MongoClient\n",
    "from bson.objectid import ObjectId\n",
    "from scipy.stats import wilcoxon\n",
    "from cliffs_delta import cliffs_delta\n",
    "import numpy as np\n",
    "import datetime\n",
    "\n",
    "# Connection with smartshark_2_2 at MongoDB\n",
    "client = MongoClient()\n",
    "db = client.smartshark_2_2\n",
    "\n",
    "# Get colletions data\n",
    "vcs_systems = pd.DataFrame(list(db.vcs_system.find()))\n",
    "travisBuilds = pd.DataFrame(list(db.travis_build.find()))\n",
    "tags = pd.DataFrame(list(db.tag.find()))\n",
    "issues = pd.DataFrame(list(db.issue.find()))\n",
    "issue_system = pd.DataFrame(list(db.issue_system.find()))\n",
    "projects = pd.DataFrame(list(db.project.find()))\n"
   ]
  },
  {
   "cell_type": "markdown",
   "metadata": {},
   "source": [
    "Selecting projects for analysis"
   ]
  },
  {
   "cell_type": "code",
   "execution_count": 14,
   "metadata": {},
   "outputs": [],
   "source": [
    "# Filter projects IC data\n",
    "projetosWithBuilds = travisBuilds['vcs_system_id'].unique()\n",
    "\n",
    "# Get all Tags of project with IC\n",
    "vcsWithBuilds = vcs_systems.query('_id.isin(@projetosWithBuilds)').drop_duplicates().dropna()._id\n",
    "tagsProjectWithBuilds = tags.query('vcs_system_id.isin(@vcsWithBuilds)').drop_duplicates().dropna()\n",
    "\n",
    "# Filter Release Tags from select projects\n",
    "releaseTags = tagsProjectWithBuilds[\n",
    "    tagsProjectWithBuilds['name']\n",
    "    .str.contains('rc|RC|candidate|CANDIDATE|beta|BETA|alpha|ALPHA')==False].drop_duplicates().dropna()\n",
    "\n",
    "# Get Valid Builds of Release Tags \n",
    "relaseCommits = releaseTags.commit_id.unique()\n",
    "integratedBuilds = travisBuilds.query('commit_id.isin(@relaseCommits)')\n",
    "stateUnwanted = ['failed', 'canceled']\n",
    "validBuilds = integratedBuilds.query('~state.isin(@stateUnwanted)')\n",
    "\n",
    "# Aggregate builds with the same commit\n",
    "validBuilds = validBuilds.groupby(['commit_id'], as_index=False, sort=False).max()\n",
    "\n",
    "# get the projects with > 2 valid releases (implies the adoption and the use of CD)\n",
    "vcsWithCD = validBuilds[['vcs_system_id','_id']].groupby(['vcs_system_id'], as_index=False).agg('count').sort_values(by=['_id'], ascending=False)\n",
    "vcsWithCD = vcsWithCD.query('_id > 1')\n",
    "#Projects selected"
   ]
  },
  {
   "cell_type": "markdown",
   "metadata": {},
   "source": [
    "Getting data for the selected projects"
   ]
  },
  {
   "cell_type": "code",
   "execution_count": 25,
   "metadata": {},
   "outputs": [],
   "source": [
    "#From the projects, get the data for analysis \n",
    "listProjectsWithCD = [] \n",
    "issues_system_ids = []\n",
    "for i in range(vcsWithCD.shape[0]):\n",
    "    vcs = vcsWithCD.iloc[i,0]\n",
    "    # Get the project id\n",
    "    project_id = vcs_systems.query('_id == @vcs').iloc[0,2] \n",
    "\n",
    "    # Get the name of the project\n",
    "    name = projects.query('_id == @project_id').iloc[0,1]     \n",
    "\n",
    "    # Get issue system id\n",
    "    issues_system_id = issue_system.query('project_id == @project_id').iloc[0,0]\n",
    "    issues_system_ids.append(issues_system_id)   \n",
    "\n",
    "    # Get the commit of Cd adoption build\n",
    "    commit_id_Builld = validBuilds.query('vcs_system_id == @vcs').sort_values(by=['started_at']).iloc[0,0]\n",
    "    \n",
    "    # Get tag, release name and adoption date\n",
    "    id_tag_CD_Adoption = releaseTags.query('commit_id == @commit_id_Builld').iloc[0,0]\n",
    "    release_name = releaseTags.query('commit_id == @commit_id_Builld').iloc[0,1]\n",
    "    adotion_date = releaseTags.query('commit_id == @commit_id_Builld').iloc[0,6]\n",
    "\n",
    "    listProjectsWithCD.append([name , vcs,project_id, issues_system_id, commit_id_Builld, id_tag_CD_Adoption, release_name, adotion_date  ])\n",
    "\n",
    "# Mount de dataframe\n",
    "dfProjectsWithCD = pd.DataFrame(listProjectsWithCD, columns=['name', 'vcs_system_id', 'project_id', 'issues_system_id', 'commit_id', 'tag_id','adoption_release', 'cd_adoption_date' ])"
   ]
  },
  {
   "cell_type": "code",
   "execution_count": 16,
   "metadata": {},
   "outputs": [],
   "source": [
    "# Get the bug fixing time\n",
    "\n",
    "issuesCDProjects = issues.query('issue_system_id.isin(@issues_system_ids)')\n",
    "mean_bugs_no_cd = []\n",
    "median_bugs_no_cd = []\n",
    "mean_bugs_cd = []\n",
    "median_bugs_cd = []\n",
    "p_values = []\n",
    "\n",
    "for i in range(dfProjectsWithCD.shape[0]):\n",
    "    # Data for output\n",
    "    tmp_name = dfProjectsWithCD.iloc[i,0]    \n",
    "    tmp_date = dfProjectsWithCD.iloc[i,7]\n",
    "    tmp_issue_sistem = dfProjectsWithCD.iloc[i,3]\n",
    "\n",
    "    # Selecting the bugs\n",
    "    df_bugs_cd = issuesCDProjects.query('issue_system_id == @tmp_issue_sistem & issue_type == \\'Bug\\' & resolution == \\'Fixed\\' &  status.isin([\\'Closed\\',\\'Resolved\\']) & created_at >= @tmp_date')        \n",
    "    df_bugs_no_cd = issuesCDProjects.query('issue_system_id == @tmp_issue_sistem & issue_type == \\'Bug\\' & resolution == \\'Fixed\\' &  status.isin([\\'Closed\\',\\'Resolved\\']) &  updated_at < @tmp_date')   \n",
    "    \n",
    "    # Bug fixing time\n",
    "    df_bugs_no_cd['delta'] = df_bugs_no_cd.updated_at - df_bugs_no_cd.created_at\n",
    "    df_bugs_cd['delta'] = df_bugs_cd.updated_at - df_bugs_cd.created_at    \n",
    "\n",
    "    # Store the measurement\n",
    "    mean_bugs_no_cd.append(df_bugs_no_cd.delta.mean())\n",
    "    median_bugs_no_cd.append(df_bugs_no_cd.delta.median())\n",
    "    mean_bugs_cd.append(df_bugs_cd.delta.mean())\n",
    "    median_bugs_cd.append(df_bugs_cd.delta.median())\n",
    "\n",
    "\n",
    "dfProjectsWithCD['mean_delta_bugs_no_cd'] = mean_bugs_no_cd\n",
    "dfProjectsWithCD['median_delta_bugs_no_cd'] = median_bugs_no_cd\n",
    "dfProjectsWithCD['mean_delta_bugs_cd'] = mean_bugs_cd\n",
    "dfProjectsWithCD['median_delta_bugs_cd'] = median_bugs_cd"
   ]
  },
  {
   "cell_type": "markdown",
   "metadata": {},
   "source": [
    "Data for Statistics analysis (Cliff Delta and  Wilcoxon test)"
   ]
  },
  {
   "cell_type": "code",
   "execution_count": 20,
   "metadata": {},
   "outputs": [
    {
     "data": {
      "text/plain": [
       "(0.5904, 'large')"
      ]
     },
     "execution_count": 20,
     "metadata": {},
     "output_type": "execute_result"
    }
   ],
   "source": [
    "cliffs_delta((dfProjectsWithCD['mean_delta_bugs_no_cd'] / np.timedelta64(1,'D')), (dfProjectsWithCD['mean_delta_bugs_cd'] / np.timedelta64(1,'D')))"
   ]
  },
  {
   "cell_type": "code",
   "execution_count": 19,
   "metadata": {},
   "outputs": [
    {
     "data": {
      "text/plain": [
       "(0.4368, 'medium')"
      ]
     },
     "execution_count": 19,
     "metadata": {},
     "output_type": "execute_result"
    }
   ],
   "source": [
    "cliffs_delta((dfProjectsWithCD['median_delta_bugs_no_cd'] / np.timedelta64(1,'D')), (dfProjectsWithCD['median_delta_bugs_cd'] / np.timedelta64(1,'D')))"
   ]
  },
  {
   "cell_type": "code",
   "execution_count": 21,
   "metadata": {},
   "outputs": [
    {
     "data": {
      "text/plain": [
       "WilcoxonResult(statistic=294.0, pvalue=6.99460506439209e-05)"
      ]
     },
     "execution_count": 21,
     "metadata": {},
     "output_type": "execute_result"
    }
   ],
   "source": [
    "wilcoxon((dfProjectsWithCD['mean_delta_bugs_no_cd'] / np.timedelta64(1,'D')), (dfProjectsWithCD['mean_delta_bugs_cd'] / np.timedelta64(1,'D')), alternative='greater')"
   ]
  },
  {
   "cell_type": "code",
   "execution_count": 22,
   "metadata": {},
   "outputs": [
    {
     "data": {
      "text/plain": [
       "WilcoxonResult(statistic=275.0, pvalue=0.0008126795291900635)"
      ]
     },
     "execution_count": 22,
     "metadata": {},
     "output_type": "execute_result"
    }
   ],
   "source": [
    "wilcoxon((dfProjectsWithCD['median_delta_bugs_no_cd'] / np.timedelta64(1,'D')), (dfProjectsWithCD['median_delta_bugs_cd'] / np.timedelta64(1,'D')), alternative='greater' )"
   ]
  },
  {
   "cell_type": "markdown",
   "metadata": {},
   "source": [
    "Data for the paper's table"
   ]
  },
  {
   "cell_type": "code",
   "execution_count": 23,
   "metadata": {},
   "outputs": [],
   "source": [
    "dfProjectsWithCD['mean_delta_bugs_no_cd_min'] = dfProjectsWithCD.mean_delta_bugs_no_cd / datetime.timedelta(minutes=1)\n",
    "dfProjectsWithCD['mean_delta_bugs_cd_min'] = dfProjectsWithCD.mean_delta_bugs_cd / datetime.timedelta(minutes=1)\n",
    "dfProjectsWithCD['median_delta_bugs_no_cd_min'] = dfProjectsWithCD.median_delta_bugs_no_cd / datetime.timedelta(minutes=1)\n",
    "dfProjectsWithCD['median_delta_bugs_cd_min'] = dfProjectsWithCD.median_delta_bugs_cd / datetime.timedelta(minutes=1)"
   ]
  },
  {
   "cell_type": "code",
   "execution_count": 24,
   "metadata": {},
   "outputs": [],
   "source": [
    "dfProjectsWithCD[['name','cd_adoption_date','mean_delta_bugs_no_cd_min','mean_delta_bugs_cd_min', 'median_delta_bugs_no_cd_min','median_delta_bugs_cd_min' ]].to_csv('tabela1.csv', index=False)"
   ]
  }
 ],
 "metadata": {
  "interpreter": {
   "hash": "1c558a1ced02d498681aefcfe1605afb298cecb176afb7a1bf00a777def5338c"
  },
  "kernelspec": {
   "display_name": "Python 3.10.1 64-bit",
   "language": "python",
   "name": "python3"
  },
  "language_info": {
   "codemirror_mode": {
    "name": "ipython",
    "version": 3
   },
   "file_extension": ".py",
   "mimetype": "text/x-python",
   "name": "python",
   "nbconvert_exporter": "python",
   "pygments_lexer": "ipython3",
   "version": "3.10.1"
  },
  "orig_nbformat": 4
 },
 "nbformat": 4,
 "nbformat_minor": 2
}
