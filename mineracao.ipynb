{
 "cells": [
  {
   "cell_type": "code",
   "execution_count": 7,
   "metadata": {},
   "outputs": [
    {
     "data": {
      "text/plain": [
       "MongoClient(host=['localhost:27017'], document_class=dict, tz_aware=False, connect=True, read_preference=Primary())"
      ]
     },
     "execution_count": 7,
     "metadata": {},
     "output_type": "execute_result"
    }
   ],
   "source": [
    "import re\n",
    "from mongoengine import connect\n",
    "from pycoshark.mongomodels import Project, VCSSystem, Commit, FileAction, Hunk, Refactoring, IssueSystem, Issue, IssueComment, MailingList, Message, Tag\n",
    "from pycoshark.utils import create_mongodb_uri_string\n",
    "\n",
    "\n",
    "# You may have to update this dict to match your DB credentials\n",
    "credentials = {'db_user': '',\n",
    "               'db_password': '',\n",
    "               'db_hostname': 'localhost',\n",
    "               'db_port': 27017,\n",
    "               'db_authentication_database': '',\n",
    "               'db_ssl_enabled': False}\n",
    "\n",
    "uri = create_mongodb_uri_string(**credentials)\n",
    "\n",
    "connect('smartshark_2_1', host=uri, alias='default')"
   ]
  },
  {
   "cell_type": "code",
   "execution_count": 26,
   "metadata": {},
   "outputs": [],
   "source": [
    "# We first need the the project from the database\n",
    "project = Project.objects(name='NIFI'.lower()).get()"
   ]
  },
  {
   "cell_type": "code",
   "execution_count": 27,
   "metadata": {},
   "outputs": [
    {
     "data": {
      "text/plain": [
       "ObjectId('5bd0268235e3ea2b7bbfdbae')"
      ]
     },
     "execution_count": 27,
     "metadata": {},
     "output_type": "execute_result"
    }
   ],
   "source": [
    "vcs_system = VCSSystem.objects(project_id=project.id).get()\n",
    "vcs_system.id"
   ]
  },
  {
   "cell_type": "code",
   "execution_count": 23,
   "metadata": {},
   "outputs": [
    {
     "name": "stdout",
     "output_type": "stream",
     "text": [
      "0.10.2.1-rc3 2017-04-21 16:23:03\n",
      "0.10.2.1 2017-04-26 19:21:47\n",
      "0.10.2.0-rc2 2017-02-14 17:26:07\n",
      "0.10.2.0 2017-02-21 07:44:11\n",
      "0.8.0-beta1-candidate1 2013-06-13 14:54:04\n",
      "0.8.0-beta1 2013-06-20 03:02:43\n",
      "1.1.0-rc3 2018-03-15 13:27:58\n",
      "kafka-0.7.2-incubating-candidate-1 2012-11-28 08:41:58\n",
      "1.1.0-rc2 2018-03-13 16:07:46\n",
      "0.8.2.2 2015-09-03 01:34:53\n",
      "0.8.1 2014-02-27 18:56:11\n",
      "0.10.0.1 2016-08-08 14:56:50\n",
      "0.10.0.1-rc2 2016-08-04 12:07:02\n",
      "0.10.0.0-rc6 2016-05-18 04:25:15\n",
      "0.10.0.0 2016-05-18 04:25:15\n",
      "0.8.2-beta 2014-10-21 17:19:44\n",
      "1.0.0 2017-11-01 05:01:24\n",
      "1.0.0-rc4 2017-10-27 15:56:59\n",
      "0.8.0 2013-11-25 02:53:43\n",
      "0.11.0.2-rc0 2017-11-10 23:47:23\n",
      "0.11.0.2 2017-11-16 10:22:44\n",
      "0.8.2.1 2015-02-26 22:10:22\n",
      "0.8.2.0-cp 2015-04-29 16:35:30\n",
      "0.8.1.1 2014-04-22 18:31:21\n",
      "1.1.0 2018-03-28 10:00:42\n",
      "1.1.0-rc4 2018-03-23 22:51:56\n",
      "0.10.2.1-rc1 2017-04-12 23:47:41\n",
      "1.0.1-rc0 2018-02-06 02:24:25\n",
      "0.10.1.0-rc1 2016-10-10 17:29:38\n",
      "0.10.0.0-rc4 2016-05-10 01:15:50\n",
      "0.10.2.0-rc0 2017-02-01 22:25:40\n",
      "0.10.2.0-rc1 2017-02-10 04:14:12\n",
      "kafka-0.7.1-incubating-candidate-1 2012-11-28 08:41:58\n",
      "kafka-0.7.1-incubating-candidate-2 2012-11-28 08:41:58\n",
      "0.11.0.1 2017-09-12 13:01:49\n",
      "0.11.0.1-rc0 2017-09-05 18:18:40\n",
      "0.8.2.0 2015-01-29 04:18:02\n",
      "0.10.0.1-rc1 2016-08-02 12:57:05\n",
      "1.0.1 2018-03-03 00:21:02\n",
      "1.0.1-rc2 2018-02-21 22:26:39\n",
      "0.10.1.0-rc3 2016-10-14 22:44:03\n",
      "0.10.1.0 2016-10-19 17:43:03\n",
      "0.8.1.0 2014-03-21 00:24:29\n",
      "0.10.1.1 2016-12-21 06:06:18\n",
      "0.10.1.1-rc1 2016-12-15 17:57:06\n",
      "1.0.1-rc1 2018-02-12 17:22:13\n",
      "0.10.0.0-rc1 2016-03-28 17:24:20\n",
      "kafka-0.7.2-incubating-candidate-5 2012-11-28 08:41:58\n",
      "0.10.2.1-rc0 2017-04-07 22:05:24\n",
      "1.1.0-rc0 2018-02-24 15:13:54\n",
      "1.0.0-rc0 2017-10-11 00:43:21\n",
      "0.9.0.0 2015-11-21 00:53:54\n",
      "0.9.0.1 2016-02-12 00:39:05\n",
      "0.10.1.0-rc0 2016-10-04 19:01:46\n",
      "0.11.0.0-rc0 2017-06-08 12:55:59\n",
      "kafka-0.7.0-incubating-candidate-9 2012-11-28 08:41:58\n",
      "0.10.0.0-rc3 2016-05-05 17:40:14\n",
      "1.0.0-rc3 2017-10-23 23:16:07\n",
      "0.10.0.0-rc5 2016-05-16 20:42:08\n",
      "kafka-0.7.1-incubating-candidate-3 2012-11-28 08:41:58\n",
      "0.10.0.1-rc0 2016-07-29 02:35:29\n",
      "0.10.2.1-rc2 2017-04-18 14:31:01\n",
      "1.0.0-rc1 2017-10-13 18:25:32\n",
      "0.10.1.1-rc0 2016-12-07 20:28:32\n",
      "kafka-0.7.2-incubating-candidate-4 2012-11-28 08:41:58\n",
      "kafka-0.7.2-incubating-candidate-2 2012-11-28 08:41:58\n",
      "1.0.0-rc2 2017-10-17 15:40:02\n",
      "0.10.1.0-rc2 2016-10-12 16:40:27\n",
      "kafka-0.7.2-incubating-candidate-3 2012-11-28 08:41:58\n",
      "0.10.0.0-rc2 2016-04-29 22:30:01\n",
      "0.11.0.0 2017-06-28 00:35:43\n",
      "0.11.0.0-rc2 2017-06-22 23:48:18\n",
      "0.11.0.0-rc1 2017-06-18 21:53:25\n",
      "1.1.0-rc1 2018-03-06 09:39:17\n"
     ]
    },
    {
     "data": {
      "text/plain": [
       "74"
      ]
     },
     "execution_count": 23,
     "metadata": {},
     "output_type": "execute_result"
    }
   ],
   "source": [
    "\n",
    "\n",
    "# We now select the version control system of the project\n",
    "\n",
    "for tag_ in Tag.objects(vcs_system_id= vcs_system.id):\n",
    "    print(tag_.name, tag_.date)\n",
    "\n",
    "Tag.objects(vcs_system_id= vcs_system.id).count()"
   ]
  },
  {
   "cell_type": "code",
   "execution_count": null,
   "metadata": {},
   "outputs": [],
   "source": []
  },
  {
   "cell_type": "code",
   "execution_count": 5,
   "metadata": {},
   "outputs": [
    {
     "name": "stdout",
     "output_type": "stream",
     "text": [
      "VCS System: https://github.com/apache/derby.git\n",
      "Number of commits: 10973\n"
     ]
    }
   ],
   "source": [
    "\n",
    "\n",
    "\n",
    "\n",
    "\n",
    "print('VCS System:', vcs_system.url)\n",
    "\n",
    "# We can now fetch the commits and analyze them\n",
    "num_commits = Commit.objects(vcs_system_id=vcs_system.id).count()\n",
    "\n",
    "print('Number of commits:', num_commits)"
   ]
  }
 ],
 "metadata": {
  "interpreter": {
   "hash": "1c558a1ced02d498681aefcfe1605afb298cecb176afb7a1bf00a777def5338c"
  },
  "kernelspec": {
   "display_name": "Python 3.10.1 64-bit",
   "language": "python",
   "name": "python3"
  },
  "language_info": {
   "codemirror_mode": {
    "name": "ipython",
    "version": 3
   },
   "file_extension": ".py",
   "mimetype": "text/x-python",
   "name": "python",
   "nbconvert_exporter": "python",
   "pygments_lexer": "ipython3",
   "version": "3.10.1"
  },
  "orig_nbformat": 4
 },
 "nbformat": 4,
 "nbformat_minor": 2
}
